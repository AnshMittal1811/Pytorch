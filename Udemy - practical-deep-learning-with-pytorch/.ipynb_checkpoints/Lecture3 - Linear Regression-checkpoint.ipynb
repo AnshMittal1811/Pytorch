{
 "cells": [
  {
   "cell_type": "markdown",
   "metadata": {},
   "source": [
    "## Linear Regression (with CPU)"
   ]
  },
  {
   "cell_type": "code",
   "execution_count": 30,
   "metadata": {},
   "outputs": [
    {
     "data": {
      "image/png": "[encoded data removed]",
      "text/plain": [
       "<Figure size 432x288 with 1 Axes>"
      ]
     },
     "metadata": {
      "needs_background": "light"
     },
     "output_type": "display_data"
    }
   ],
   "source": [
    "import numpy as np\n",
    "import matplotlib.pyplot as plt\n",
    "\n",
    "np.random.seed(1)\n",
    "n = 50\n",
    "x = np.random.randn(n)\n",
    "y = x * np.random.randn(n)\n",
    "\n",
    "colors  = np.random.randn(n)\n",
    "plt.plot(np.unique(x), np.poly1d(np.polyfit(x,y,1))(np.unique(x)))\n",
    "\n",
    "plt.scatter(x, y, c = colors, alpha = 0.5)\n",
    "plt.show()"
   ]
  },
  {
   "cell_type": "markdown",
   "metadata": {},
   "source": [
    "### Building a Linear regression model with Pytorch"
   ]
  },
  {
   "cell_type": "markdown",
   "metadata": {},
   "source": [
    "#### Building a toy dataset"
   ]
  },
  {
   "cell_type": "code",
   "execution_count": 31,
   "metadata": {},
   "outputs": [],
   "source": [
    "x_values = [i for i in range(11)]"
   ]
  },
  {
   "cell_type": "code",
   "execution_count": 32,
   "metadata": {},
   "outputs": [
    {
     "data": {
      "text/plain": [
       "[0, 1, 2, 3, 4, 5, 6, 7, 8, 9, 10]"
      ]
     },
     "execution_count": 32,
     "metadata": {},
     "output_type": "execute_result"
    }
   ],
   "source": [
    "x_values"
   ]
  },
  {
   "cell_type": "code",
   "execution_count": 33,
   "metadata": {},
   "outputs": [
    {
     "data": {
      "text/plain": [
       "(11,)"
      ]
     },
     "execution_count": 33,
     "metadata": {},
     "output_type": "execute_result"
    }
   ],
   "source": [
    "x_train = np.array(x_values, dtype = np.float32)\n",
    "x_train.shape"
   ]
  },
  {
   "cell_type": "code",
   "execution_count": 34,
   "metadata": {},
   "outputs": [
    {
     "data": {
      "text/plain": [
       "(11, 1)"
      ]
     },
     "execution_count": 34,
     "metadata": {},
     "output_type": "execute_result"
    }
   ],
   "source": [
    "x_train = x_train.reshape(-1, 1)\n",
    "x_train.shape"
   ]
  },
  {
   "cell_type": "markdown",
   "metadata": {},
   "source": [
    "y = 2x + 1"
   ]
  },
  {
   "cell_type": "code",
   "execution_count": 35,
   "metadata": {},
   "outputs": [],
   "source": [
    "y_values = [2*i + 1 for i in x_values]"
   ]
  },
  {
   "cell_type": "code",
   "execution_count": 36,
   "metadata": {},
   "outputs": [
    {
     "data": {
      "text/plain": [
       "[1, 3, 5, 7, 9, 11, 13, 15, 17, 19, 21]"
      ]
     },
     "execution_count": 36,
     "metadata": {},
     "output_type": "execute_result"
    }
   ],
   "source": [
    "y_values"
   ]
  },
  {
   "cell_type": "code",
   "execution_count": 37,
   "metadata": {},
   "outputs": [],
   "source": [
    "y_values = []\n",
    "\n",
    "for i in x_values:\n",
    "    result = 2*i + 1\n",
    "    y_values.append(result)"
   ]
  },
  {
   "cell_type": "code",
   "execution_count": 38,
   "metadata": {},
   "outputs": [
    {
     "data": {
      "text/plain": [
       "[1, 3, 5, 7, 9, 11, 13, 15, 17, 19, 21]"
      ]
     },
     "execution_count": 38,
     "metadata": {},
     "output_type": "execute_result"
    }
   ],
   "source": [
    "y_values"
   ]
  },
  {
   "cell_type": "code",
   "execution_count": 39,
   "metadata": {},
   "outputs": [
    {
     "data": {
      "text/plain": [
       "(11,)"
      ]
     },
     "execution_count": 39,
     "metadata": {},
     "output_type": "execute_result"
    }
   ],
   "source": [
    "y_train = np.array(y_values, dtype = np.float32)\n",
    "y_train.shape"
   ]
  },
  {
   "cell_type": "code",
   "execution_count": 40,
   "metadata": {},
   "outputs": [
    {
     "data": {
      "text/plain": [
       "(11, 1)"
      ]
     },
     "execution_count": 40,
     "metadata": {},
     "output_type": "execute_result"
    }
   ],
   "source": [
    "# important 2d required\n",
    "y_train = y_train.reshape(-1, 1)\n",
    "y_train.shape"
   ]
  },
  {
   "cell_type": "markdown",
   "metadata": {},
   "source": [
    "### Building a model"
   ]
  },
  {
   "cell_type": "markdown",
   "metadata": {},
   "source": [
    "##### Critical Imports"
   ]
  },
  {
   "cell_type": "code",
   "execution_count": 41,
   "metadata": {},
   "outputs": [],
   "source": [
    "import torch\n",
    "import torch.nn as nn\n",
    "from torch.autograd import Variable"
   ]
  },
  {
   "cell_type": "markdown",
   "metadata": {},
   "source": [
    "##### Create Model\n",
    "\n",
    "1. Linear Model\n",
    "    * True Equation: y = 2x + 1\n",
    "2. Forward\n",
    "    * Example\n",
    "        * Input x = 1\n",
    "        * Output y = ?"
   ]
  },
  {
   "cell_type": "code",
   "execution_count": 42,
   "metadata": {},
   "outputs": [],
   "source": [
    "# Create class\n",
    "class LinearRegressionModel(nn.Module):\n",
    "    def __init__(self, input_size, output_size):\n",
    "        super(LinearRegressionModel, self).__init__()\n",
    "        self.linear = nn.Linear(input_dim, output_dim)\n",
    "\n",
    "    def forward(self, x):\n",
    "        out = self.linear(x)\n",
    "        return out"
   ]
  },
  {
   "cell_type": "markdown",
   "metadata": {},
   "source": [
    "##### Instantiate Model Class\n",
    "<li> Input:         [0, 1, 2, 3, 4, 5, 6, 7, 8, 9, 10]\n",
    "<li> Desired Ouput: [1, 3, 5, 7, 9, 11, 13, 15, 17, 19, 21]"
   ]
  },
  {
   "cell_type": "code",
   "execution_count": 43,
   "metadata": {},
   "outputs": [],
   "source": [
    "input_dim = 1\n",
    "output_dim = 1\n",
    "\n",
    "model = LinearRegressionModel(input_dim, output_dim)"
   ]
  },
  {
   "cell_type": "markdown",
   "metadata": {},
   "source": [
    "##### Instantiate Loss Class"
   ]
  },
  {
   "cell_type": "code",
   "execution_count": 44,
   "metadata": {},
   "outputs": [],
   "source": [
    "criterion = nn.MSELoss()"
   ]
  },
  {
   "cell_type": "markdown",
   "metadata": {},
   "source": [
    "##### Instantiate Optimizer Class"
   ]
  },
  {
   "cell_type": "code",
   "execution_count": 45,
   "metadata": {},
   "outputs": [],
   "source": [
    "learning_rate = 0.01\n",
    "opt = torch.optim.SGD(model.parameters(), lr = learning_rate)"
   ]
  },
  {
   "cell_type": "markdown",
   "metadata": {},
   "source": [
    "##### Train the Model"
   ]
  },
  {
   "cell_type": "code",
   "execution_count": 46,
   "metadata": {},
   "outputs": [],
   "source": [
    "epochs = 100"
   ]
  },
  {
   "cell_type": "code",
   "execution_count": 47,
   "metadata": {},
   "outputs": [
    {
     "name": "stdout",
     "output_type": "stream",
     "text": [
      "epoch 1, loss 167.43048095703125\n",
      "epoch 2, loss 13.833614349365234\n",
      "epoch 3, loss 1.3032230138778687\n",
      "epoch 4, loss 0.27920594811439514\n",
      "epoch 5, loss 0.19374912977218628\n",
      "epoch 6, loss 0.18486952781677246\n",
      "epoch 7, loss 0.18225722014904022\n",
      "epoch 8, loss 0.1801774650812149\n",
      "epoch 9, loss 0.1781618446111679\n",
      "epoch 10, loss 0.17617203295230865\n",
      "epoch 11, loss 0.17420455813407898\n",
      "epoch 12, loss 0.17225919663906097\n",
      "epoch 13, loss 0.1703358143568039\n",
      "epoch 14, loss 0.16843369603157043\n",
      "epoch 15, loss 0.16655279695987701\n",
      "epoch 16, loss 0.16469281911849976\n",
      "epoch 17, loss 0.1628538817167282\n",
      "epoch 18, loss 0.16103529930114746\n",
      "epoch 19, loss 0.15923677384853363\n",
      "epoch 20, loss 0.15745888650417328\n",
      "epoch 21, loss 0.15570057928562164\n",
      "epoch 22, loss 0.15396195650100708\n",
      "epoch 23, loss 0.15224243700504303\n",
      "epoch 24, loss 0.1505424678325653\n",
      "epoch 25, loss 0.14886148273944855\n",
      "epoch 26, loss 0.14719897508621216\n",
      "epoch 27, loss 0.14555524289608002\n",
      "epoch 28, loss 0.14392982423305511\n",
      "epoch 29, loss 0.14232277870178223\n",
      "epoch 30, loss 0.14073330163955688\n",
      "epoch 31, loss 0.13916173577308655\n",
      "epoch 32, loss 0.1376078575849533\n",
      "epoch 33, loss 0.13607116043567657\n",
      "epoch 34, loss 0.13455183804035187\n",
      "epoch 35, loss 0.1330491602420807\n",
      "epoch 36, loss 0.13156339526176453\n",
      "epoch 37, loss 0.1300942748785019\n",
      "epoch 38, loss 0.12864156067371368\n",
      "epoch 39, loss 0.12720496952533722\n",
      "epoch 40, loss 0.1257845163345337\n",
      "epoch 41, loss 0.12437980622053146\n",
      "epoch 42, loss 0.12299098819494247\n",
      "epoch 43, loss 0.1216176301240921\n",
      "epoch 44, loss 0.12025955319404602\n",
      "epoch 45, loss 0.11891650408506393\n",
      "epoch 46, loss 0.11758866906166077\n",
      "epoch 47, loss 0.11627564579248428\n",
      "epoch 48, loss 0.11497717350721359\n",
      "epoch 49, loss 0.11369328200817108\n",
      "epoch 50, loss 0.11242356151342392\n",
      "epoch 51, loss 0.1111682653427124\n",
      "epoch 52, loss 0.10992689430713654\n",
      "epoch 53, loss 0.10869920253753662\n",
      "epoch 54, loss 0.10748551040887833\n",
      "epoch 55, loss 0.10628512501716614\n",
      "epoch 56, loss 0.10509815812110901\n",
      "epoch 57, loss 0.1039246991276741\n",
      "epoch 58, loss 0.10276410728693008\n",
      "epoch 59, loss 0.10161653161048889\n",
      "epoch 60, loss 0.10048187524080276\n",
      "epoch 61, loss 0.09935995936393738\n",
      "epoch 62, loss 0.0982503667473793\n",
      "epoch 63, loss 0.09715316444635391\n",
      "epoch 64, loss 0.09606829285621643\n",
      "epoch 65, loss 0.09499552100896835\n",
      "epoch 66, loss 0.09393469989299774\n",
      "epoch 67, loss 0.09288568794727325\n",
      "epoch 68, loss 0.09184850007295609\n",
      "epoch 69, loss 0.09082277119159698\n",
      "epoch 70, loss 0.08980861306190491\n",
      "epoch 71, loss 0.08880579471588135\n",
      "epoch 72, loss 0.08781404793262482\n",
      "epoch 73, loss 0.08683335036039352\n",
      "epoch 74, loss 0.08586385846138\n",
      "epoch 75, loss 0.08490493893623352\n",
      "epoch 76, loss 0.08395686745643616\n",
      "epoch 77, loss 0.08301930874586105\n",
      "epoch 78, loss 0.08209221065044403\n",
      "epoch 79, loss 0.08117556571960449\n",
      "epoch 80, loss 0.08026901632547379\n",
      "epoch 81, loss 0.07937272638082504\n",
      "epoch 82, loss 0.078486368060112\n",
      "epoch 83, loss 0.07761000841856003\n",
      "epoch 84, loss 0.07674331218004227\n",
      "epoch 85, loss 0.07588624954223633\n",
      "epoch 86, loss 0.07503893226385117\n",
      "epoch 87, loss 0.07420093566179276\n",
      "epoch 88, loss 0.07337235659360886\n",
      "epoch 89, loss 0.07255297154188156\n",
      "epoch 90, loss 0.07174274325370789\n",
      "epoch 91, loss 0.07094162702560425\n",
      "epoch 92, loss 0.07014941424131393\n",
      "epoch 93, loss 0.06936606764793396\n",
      "epoch 94, loss 0.0685916468501091\n",
      "epoch 95, loss 0.0678255707025528\n",
      "epoch 96, loss 0.06706815212965012\n",
      "epoch 97, loss 0.06631924211978912\n",
      "epoch 98, loss 0.06557855755090714\n",
      "epoch 99, loss 0.0648464486002922\n",
      "epoch 100, loss 0.06412222981452942\n"
     ]
    }
   ],
   "source": [
    "for epoch in range(epochs):\n",
    "    epoch += 1\n",
    "    # Convert numpy array to Torch Variable\n",
    "    inputs = Variable(torch.from_numpy(x_train))\n",
    "    labels = Variable(torch.from_numpy(y_train))\n",
    "    \n",
    "    # Clear gradients w.r.t. parameters\n",
    "    opt.zero_grad()\n",
    "    \n",
    "    # forward to get output\n",
    "    outputs = model(inputs)\n",
    "    \n",
    "    # calculate loss\n",
    "    loss = criterion(outputs, labels)\n",
    "    \n",
    "    # Getting gradients w.r.t. parameters\n",
    "    loss.backward()\n",
    "    \n",
    "    # Updating params\n",
    "    opt.step()\n",
    "    \n",
    "    print('epoch {}, loss {}'.format(epoch, loss.data))"
   ]
  },
  {
   "cell_type": "markdown",
   "metadata": {},
   "source": [
    "##### Compare Predictions\n"
   ]
  },
  {
   "cell_type": "code",
   "execution_count": 48,
   "metadata": {},
   "outputs": [
    {
     "data": {
      "text/plain": [
       "array([[ 0.5289527],\n",
       "       [ 2.596788 ],\n",
       "       [ 4.664623 ],\n",
       "       [ 6.732458 ],\n",
       "       [ 8.800293 ],\n",
       "       [10.868128 ],\n",
       "       [12.935964 ],\n",
       "       [15.0037985],\n",
       "       [17.071634 ],\n",
       "       [19.13947  ],\n",
       "       [21.207304 ]], dtype=float32)"
      ]
     },
     "execution_count": 48,
     "metadata": {},
     "output_type": "execute_result"
    }
   ],
   "source": [
    "pred = model(Variable(torch.from_numpy(x_train))).data.numpy()\n",
    "pred"
   ]
  },
  {
   "cell_type": "code",
   "execution_count": 49,
   "metadata": {},
   "outputs": [
    {
     "data": {
      "text/plain": [
       "array([[ 1.],\n",
       "       [ 3.],\n",
       "       [ 5.],\n",
       "       [ 7.],\n",
       "       [ 9.],\n",
       "       [11.],\n",
       "       [13.],\n",
       "       [15.],\n",
       "       [17.],\n",
       "       [19.],\n",
       "       [21.]], dtype=float32)"
      ]
     },
     "execution_count": 49,
     "metadata": {},
     "output_type": "execute_result"
    }
   ],
   "source": [
    "y_train"
   ]
  },
  {
   "cell_type": "markdown",
   "metadata": {},
   "source": [
    "##### Plot Graph\n"
   ]
  },
  {
   "cell_type": "code",
   "execution_count": 50,
   "metadata": {},
   "outputs": [
    {
     "data": {
      "image/png": "[encoded data removed]",
      "text/plain": [
       "<Figure size 432x288 with 1 Axes>"
      ]
     },
     "metadata": {
      "needs_background": "light"
     },
     "output_type": "display_data"
    }
   ],
   "source": [
    "# Clear figure \n",
    "plt.clf()\n",
    "\n",
    "pred = model(Variable(torch.from_numpy(x_train))).data.numpy()\n",
    "\n",
    "\n",
    "plt.plot(x_train, y_train, 'go', label = 'True data', alpha = 0.5)\n",
    "\n",
    "plt.plot(x_train, pred, '--', label = ' Predictions', alpha = 0.5)\n",
    "\n",
    "plt.legend(loc = 'best')\n",
    "plt.show()"
   ]
  },
  {
   "cell_type": "markdown",
   "metadata": {},
   "source": [
    "##### Plot graph"
   ]
  },
  {
   "cell_type": "code",
   "execution_count": 52,
   "metadata": {},
   "outputs": [],
   "source": [
    "save_model = True\n",
    "if save_model is True:\n",
    "    torch.save(model.state_dict(), 'Models/LRPytorch.pkl')"
   ]
  },
  {
   "cell_type": "markdown",
   "metadata": {},
   "source": [
    "##### Load Model"
   ]
  },
  {
   "cell_type": "code",
   "execution_count": 53,
   "metadata": {},
   "outputs": [],
   "source": [
    "load_model = True\n",
    "if load_model is True:\n",
    "    model.load_state_dict(torch.load('Models/LRPytorch.pkl'))"
   ]
  },
  {
   "cell_type": "markdown",
   "metadata": {},
   "source": [
    "###### CPU Summary"
   ]
  },
  {
   "cell_type": "code",
   "execution_count": 54,
   "metadata": {},
   "outputs": [],
   "source": [
    "import torch\n",
    "import torch.nn\n",
    "from torch.autograd import Variable\n",
    "\n",
    "\n",
    "'''\n",
    "STEP 1: CREATE MODEL CLASS\n",
    "'''\n",
    "class LinearRegressionModel(nn.Module):\n",
    "    def __init__(self, input_size, output_size):\n",
    "        super(LinearRegressionModel, self).__init__()\n",
    "        self.linear = nn.Linear(input_dim, output_dim)\n",
    "\n",
    "    def forward(self, x):\n",
    "        out = self.linear(x)\n",
    "        return out\n",
    "\n",
    "\n",
    "\n",
    "'''\n",
    "STEP 2: INSTANTIATE MODEL CLASS\n",
    "'''\n",
    "input_dim = 1\n",
    "output_dim = 1\n",
    "\n",
    "model = LinearRegressionModel(input_dim, output_dim)\n",
    "\n",
    "\n",
    "\n",
    "'''\n",
    "STEP 3: INSTANTIATE LOSS CLASS\n",
    "'''\n",
    "criterion = nn.MSELoss()\n",
    "\n",
    "\n",
    "'''\n",
    "STEP 4: INSTANTIATE THE OPTIMIZER CLASS\n",
    "'''\n",
    "learning_rate = 0.01\n",
    "opt = torch.optim.SGD(model.parameters(), lr = learning_rate)\n",
    "\n",
    "\n",
    "\n",
    "'''\n",
    "STEP 5: TRAIN THE MODEL\n",
    "'''\n",
    "epochs = 100\n",
    "\n",
    "for epoch in range(epochs):\n",
    "    epoch += 1\n",
    "    \n",
    "    # Convert numpy array to Torch Variable\n",
    "    inputs = Variable(torch.from_numpy(x_train))\n",
    "    labels = Variable(torch.from_numpy(y_train))\n",
    "    \n",
    "    # Clear gradients w.r.t. parameters\n",
    "    opt.zero_grad()\n",
    "    \n",
    "    # forward to get output\n",
    "    outputs = model(inputs)\n",
    "    \n",
    "    # calculate loss\n",
    "    loss = criterion(outputs, labels)\n",
    "    \n",
    "    # Getting gradients w.r.t. parameters\n",
    "    loss.backward()\n",
    "    \n",
    "    # Updating params\n",
    "    opt.step()"
   ]
  },
  {
   "cell_type": "markdown",
   "metadata": {},
   "source": [
    "## Linear Regression (with GPU)"
   ]
  },
  {
   "cell_type": "markdown",
   "metadata": {},
   "source": [
    "###### GPU: 2 things  must be on the GPU\n",
    "<li> model\n",
    "<li> variables"
   ]
  },
  {
   "cell_type": "code",
   "execution_count": 56,
   "metadata": {},
   "outputs": [
    {
     "name": "stdout",
     "output_type": "stream",
     "text": [
      "epoch 1, loss 73.9892349243164\n",
      "epoch 2, loss 6.167867660522461\n",
      "epoch 3, loss 0.6344102025032043\n",
      "epoch 4, loss 0.18159687519073486\n",
      "epoch 5, loss 0.14321208000183105\n",
      "epoch 6, loss 0.1386474072933197\n",
      "epoch 7, loss 0.13685710728168488\n",
      "epoch 8, loss 0.13530923426151276\n",
      "epoch 9, loss 0.1337965428829193\n",
      "epoch 10, loss 0.13230246305465698\n",
      "epoch 11, loss 0.13082504272460938\n",
      "epoch 12, loss 0.1293640434741974\n",
      "epoch 13, loss 0.1279194951057434\n",
      "epoch 14, loss 0.126490980386734\n",
      "epoch 15, loss 0.12507851421833038\n",
      "epoch 16, loss 0.12368189543485641\n",
      "epoch 17, loss 0.12230070680379868\n",
      "epoch 18, loss 0.12093493342399597\n",
      "epoch 19, loss 0.11958441138267517\n",
      "epoch 20, loss 0.11824904382228851\n",
      "epoch 21, loss 0.1169285923242569\n",
      "epoch 22, loss 0.11562296748161316\n",
      "epoch 23, loss 0.11433172225952148\n",
      "epoch 24, loss 0.11305496096611023\n",
      "epoch 25, loss 0.11179262399673462\n",
      "epoch 26, loss 0.11054419726133347\n",
      "epoch 27, loss 0.10930971801280975\n",
      "epoch 28, loss 0.10808911174535751\n",
      "epoch 29, loss 0.10688209533691406\n",
      "epoch 30, loss 0.10568867623806\n",
      "epoch 31, loss 0.1045084148645401\n",
      "epoch 32, loss 0.10334132611751556\n",
      "epoch 33, loss 0.10218729823827744\n",
      "epoch 34, loss 0.10104620456695557\n",
      "epoch 35, loss 0.09991782903671265\n",
      "epoch 36, loss 0.09880206733942032\n",
      "epoch 37, loss 0.09769882261753082\n",
      "epoch 38, loss 0.09660781919956207\n",
      "epoch 39, loss 0.09552896022796631\n",
      "epoch 40, loss 0.09446226805448532\n",
      "epoch 41, loss 0.09340736269950867\n",
      "epoch 42, loss 0.09236425906419754\n",
      "epoch 43, loss 0.09133287519216537\n",
      "epoch 44, loss 0.09031297266483307\n",
      "epoch 45, loss 0.08930451422929764\n",
      "epoch 46, loss 0.08830726891756058\n",
      "epoch 47, loss 0.0873211994767189\n",
      "epoch 48, loss 0.0863461121916771\n",
      "epoch 49, loss 0.08538186550140381\n",
      "epoch 50, loss 0.0844283476471901\n",
      "epoch 51, loss 0.08348558843135834\n",
      "epoch 52, loss 0.08255334943532944\n",
      "epoch 53, loss 0.08163146674633026\n",
      "epoch 54, loss 0.08071985840797424\n",
      "epoch 55, loss 0.07981845736503601\n",
      "epoch 56, loss 0.07892724871635437\n",
      "epoch 57, loss 0.07804577052593231\n",
      "epoch 58, loss 0.07717426121234894\n",
      "epoch 59, loss 0.07631248980760574\n",
      "epoch 60, loss 0.07546035200357437\n",
      "epoch 61, loss 0.07461770623922348\n",
      "epoch 62, loss 0.0737844705581665\n",
      "epoch 63, loss 0.0729605108499527\n",
      "epoch 64, loss 0.07214581221342087\n",
      "epoch 65, loss 0.07134009897708893\n",
      "epoch 66, loss 0.07054343074560165\n",
      "epoch 67, loss 0.06975571066141129\n",
      "epoch 68, loss 0.06897670775651932\n",
      "epoch 69, loss 0.06820645928382874\n",
      "epoch 70, loss 0.06744489818811417\n",
      "epoch 71, loss 0.06669177114963531\n",
      "epoch 72, loss 0.06594695895910263\n",
      "epoch 73, loss 0.0652104988694191\n",
      "epoch 74, loss 0.06448235362768173\n",
      "epoch 75, loss 0.06376229226589203\n",
      "epoch 76, loss 0.0630502849817276\n",
      "epoch 77, loss 0.06234622746706009\n",
      "epoch 78, loss 0.06164994090795517\n",
      "epoch 79, loss 0.060961514711380005\n",
      "epoch 80, loss 0.060280829668045044\n",
      "epoch 81, loss 0.059607598930597305\n",
      "epoch 82, loss 0.058942005038261414\n",
      "epoch 83, loss 0.058283817023038864\n",
      "epoch 84, loss 0.057632941752672195\n",
      "epoch 85, loss 0.056989312171936035\n",
      "epoch 86, loss 0.05635299161076546\n",
      "epoch 87, loss 0.055723678320646286\n",
      "epoch 88, loss 0.055101435631513596\n",
      "epoch 89, loss 0.05448612943291664\n",
      "epoch 90, loss 0.053877659142017365\n",
      "epoch 91, loss 0.05327603220939636\n",
      "epoch 92, loss 0.05268107354640961\n",
      "epoch 93, loss 0.05209286883473396\n",
      "epoch 94, loss 0.05151115357875824\n",
      "epoch 95, loss 0.05093585327267647\n",
      "epoch 96, loss 0.05036712810397148\n",
      "epoch 97, loss 0.049804676324129105\n",
      "epoch 98, loss 0.04924856498837471\n",
      "epoch 99, loss 0.04869849607348442\n",
      "epoch 100, loss 0.048154741525650024\n"
     ]
    }
   ],
   "source": [
    "import torch\n",
    "import torch.nn\n",
    "from torch.autograd import Variable\n",
    "\n",
    "\n",
    "'''\n",
    "STEP 1: CREATE MODEL CLASS\n",
    "'''\n",
    "class LinearRegressionModel(nn.Module):\n",
    "    def __init__(self, input_size, output_size):\n",
    "        super(LinearRegressionModel, self).__init__()\n",
    "        self.linear = nn.Linear(input_dim, output_dim)\n",
    "\n",
    "    def forward(self, x):\n",
    "        out = self.linear(x)\n",
    "        return out\n",
    "\n",
    "\n",
    "\n",
    "'''\n",
    "STEP 2: INSTANTIATE MODEL CLASS\n",
    "'''\n",
    "input_dim = 1\n",
    "output_dim = 1\n",
    "\n",
    "model = LinearRegressionModel(input_dim, output_dim)\n",
    "\n",
    "\n",
    "############################\n",
    "###   USE GPU FOR MODEL  ###\n",
    "############################\n",
    "\n",
    "if torch.cuda.is_available():\n",
    "    model.cuda()\n",
    "\n",
    "\n",
    "'''\n",
    "STEP 3: INSTANTIATE LOSS CLASS\n",
    "'''\n",
    "criterion = nn.MSELoss()\n",
    "\n",
    "\n",
    "'''\n",
    "STEP 4: INSTANTIATE THE OPTIMIZER CLASS\n",
    "'''\n",
    "learning_rate = 0.01\n",
    "opt = torch.optim.SGD(model.parameters(), lr = learning_rate)\n",
    "\n",
    "\n",
    "\n",
    "'''\n",
    "STEP 5: TRAIN THE MODEL\n",
    "'''\n",
    "epochs = 100\n",
    "\n",
    "for epoch in range(epochs):\n",
    "    epoch += 1\n",
    "    \n",
    "    # Convert numpy array to Torch Variable\n",
    "    \n",
    "    ############################\n",
    "    ###   USE GPU FOR MODEL  ###\n",
    "    ############################\n",
    "    if torch.cuda.is_available():\n",
    "        inputs = Variable(torch.from_numpy(x_train)).cuda()\n",
    "        labels = Variable(torch.from_numpy(y_train)).cuda()\n",
    "    else:\n",
    "        inputs = Variable(torch.from_numpy(x_train))\n",
    "        labels = Variable(torch.from_numpy(y_train))\n",
    "    # Clear gradients w.r.t. parameters\n",
    "    opt.zero_grad()\n",
    "    \n",
    "    # forward to get output\n",
    "    outputs = model(inputs)\n",
    "    \n",
    "    # calculate loss\n",
    "    loss = criterion(outputs, labels)\n",
    "    \n",
    "    # Getting gradients w.r.t. parameters\n",
    "    loss.backward()\n",
    "    \n",
    "    # Updating params\n",
    "    opt.step()\n",
    "    \n",
    "    print('epoch {}, loss {}'.format(epoch, loss.data))"
   ]
  },
  {
   "cell_type": "markdown",
   "metadata": {},
   "source": [
    "-------"
   ]
  }
 ],
 "metadata": {
  "kernelspec": {
   "display_name": "pytorch",
   "language": "python",
   "name": "pytorch"
  },
  "language_info": {
   "codemirror_mode": {
    "name": "ipython",
    "version": 3
   },
   "file_extension": ".py",
   "mimetype": "text/x-python",
   "name": "python",
   "nbconvert_exporter": "python",
   "pygments_lexer": "ipython3",
   "version": "3.6.10"
  }
 },
 "nbformat": 4,
 "nbformat_minor": 2
}
