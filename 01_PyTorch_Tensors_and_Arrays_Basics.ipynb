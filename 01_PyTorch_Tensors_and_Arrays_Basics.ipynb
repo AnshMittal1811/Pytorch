{
  "nbformat": 4,
  "nbformat_minor": 0,
  "metadata": {
    "colab": {
      "name": "01_PyTorch_Tensors_and_Arrays_Basics.ipynb",
      "provenance": [],
      "authorship_tag": "ABX9TyOZKq3b/R4CBZtDrY3aUg3L",
      "include_colab_link": true
    },
    "kernelspec": {
      "name": "python3",
      "display_name": "Python 3"
    },
    "language_info": {
      "name": "python"
    },
    "accelerator": "GPU"
  },
  "cells": [
    {
      "cell_type": "markdown",
      "metadata": {
        "id": "view-in-github",
        "colab_type": "text"
      },
      "source": [
        "<a href=\"https://colab.research.google.com/github/AnshMittal1811/Pytorch/blob/master/01_PyTorch_Tensors_and_Arrays_Basics.ipynb\" target=\"_parent\"><img src=\"https://colab.research.google.com/assets/colab-badge.svg\" alt=\"Open In Colab\"/></a>"
      ]
    },
    {
      "cell_type": "markdown",
      "metadata": {
        "id": "WmFF3zjQAPzy"
      },
      "source": [
        "# Tensors"
      ]
    },
    {
      "cell_type": "code",
      "metadata": {
        "id": "b-a5brii_O4I"
      },
      "source": [
        "import torch\n",
        "import numpy as np"
      ],
      "execution_count": 1,
      "outputs": []
    },
    {
      "cell_type": "markdown",
      "metadata": {
        "id": "af7aYtsCAU9f"
      },
      "source": [
        "## Initializing a Tensor"
      ]
    },
    {
      "cell_type": "markdown",
      "metadata": {
        "id": "jcg5M7IQAphF"
      },
      "source": [
        "This can be done using various methods. Some of them have been listed below.\n",
        "1. Using a list of list\n",
        "2. Using NumPy array\n",
        "3. From another Tensor\n",
        "4. Using random variables"
      ]
    },
    {
      "cell_type": "code",
      "metadata": {
        "id": "l6G78jUZATM-"
      },
      "source": [
        "d = [[1, 2, 3, 4], [1, 3, 4, 6]]\n",
        "X_d = torch.tensor(d)"
      ],
      "execution_count": 2,
      "outputs": []
    },
    {
      "cell_type": "code",
      "metadata": {
        "colab": {
          "base_uri": "https://localhost:8080/"
        },
        "id": "XFUsJBorAiFy",
        "outputId": "7d588a3c-1126-44db-f274-afbde4a3da36"
      },
      "source": [
        "print(X_d)"
      ],
      "execution_count": 3,
      "outputs": [
        {
          "output_type": "stream",
          "name": "stdout",
          "text": [
            "tensor([[1, 2, 3, 4],\n",
            "        [1, 3, 4, 6]])\n"
          ]
        }
      ]
    },
    {
      "cell_type": "code",
      "metadata": {
        "colab": {
          "base_uri": "https://localhost:8080/"
        },
        "id": "9NUipQyuAj2U",
        "outputId": "fd561fbc-a588-439a-ed35-252260c83bb1"
      },
      "source": [
        "print(type(X_d))"
      ],
      "execution_count": 4,
      "outputs": [
        {
          "output_type": "stream",
          "name": "stdout",
          "text": [
            "<class 'torch.Tensor'>\n"
          ]
        }
      ]
    },
    {
      "cell_type": "code",
      "metadata": {
        "id": "uP031GpbAmbI"
      },
      "source": [
        "np_array = np.array(d)\n",
        "x_np = torch.from_numpy(np_array)"
      ],
      "execution_count": 5,
      "outputs": []
    },
    {
      "cell_type": "code",
      "metadata": {
        "colab": {
          "base_uri": "https://localhost:8080/"
        },
        "id": "idRzH6Qdivar",
        "outputId": "9308f870-fdb6-4957-8d10-73117502e4f5"
      },
      "source": [
        "print(np_array)\n",
        "print(type(np_array))\n",
        "print(x_np)\n",
        "print(type(x_np))"
      ],
      "execution_count": 6,
      "outputs": [
        {
          "output_type": "stream",
          "name": "stdout",
          "text": [
            "[[1 2 3 4]\n",
            " [1 3 4 6]]\n",
            "<class 'numpy.ndarray'>\n",
            "tensor([[1, 2, 3, 4],\n",
            "        [1, 3, 4, 6]])\n",
            "<class 'torch.Tensor'>\n"
          ]
        }
      ]
    },
    {
      "cell_type": "code",
      "metadata": {
        "colab": {
          "base_uri": "https://localhost:8080/"
        },
        "id": "3sVT04Vqi7ZG",
        "outputId": "c01da0fb-94bb-41a0-9475-b2b9928a59bb"
      },
      "source": [
        "X_ones = torch.ones_like(X_d)\n",
        "print(f\"One Tensor: \\n {X_ones} \\n\")\n",
        "print(f\"Type: \\n {type(X_ones)} \\n\")\n",
        "\n",
        "X_rand = torch.rand_like(X_d, dtype = torch.float)\n",
        "print(f\"Random Tensor: \\n {X_rand} \\n\")\n",
        "print(f\"Type: \\n {type(X_rand)} \\n\")"
      ],
      "execution_count": 7,
      "outputs": [
        {
          "output_type": "stream",
          "name": "stdout",
          "text": [
            "One Tensor: \n",
            " tensor([[1, 1, 1, 1],\n",
            "        [1, 1, 1, 1]]) \n",
            "\n",
            "Type: \n",
            " <class 'torch.Tensor'> \n",
            "\n",
            "Random Tensor: \n",
            " tensor([[0.4285, 0.7646, 0.4245, 0.7930],\n",
            "        [0.6910, 0.6654, 0.4020, 0.9031]]) \n",
            "\n",
            "Type: \n",
            " <class 'torch.Tensor'> \n",
            "\n"
          ]
        }
      ]
    },
    {
      "cell_type": "code",
      "metadata": {
        "colab": {
          "base_uri": "https://localhost:8080/"
        },
        "id": "LLbnast6jb49",
        "outputId": "3fe316e6-2373-4a12-f6db-2a66a4926e4b"
      },
      "source": [
        "shape = (2,3,)\n",
        "rand_tensor = torch.rand(shape)\n",
        "ones_tensor = torch.ones(shape)\n",
        "zeros_tensor = torch.zeros(shape)\n",
        "\n",
        "print(f\"Random Tensor: \\n {rand_tensor} \\n\")\n",
        "print(f\"Random Tensor: \\n {ones_tensor} \\n\")\n",
        "print(f\"Random Tensor: \\n {zeros_tensor} \\n\")"
      ],
      "execution_count": 8,
      "outputs": [
        {
          "output_type": "stream",
          "name": "stdout",
          "text": [
            "Random Tensor: \n",
            " tensor([[0.7796, 0.5266, 0.6152],\n",
            "        [0.5637, 0.6480, 0.6447]]) \n",
            "\n",
            "Random Tensor: \n",
            " tensor([[1., 1., 1.],\n",
            "        [1., 1., 1.]]) \n",
            "\n",
            "Random Tensor: \n",
            " tensor([[0., 0., 0.],\n",
            "        [0., 0., 0.]]) \n",
            "\n"
          ]
        }
      ]
    },
    {
      "cell_type": "markdown",
      "metadata": {
        "id": "T_3e86jCkHeC"
      },
      "source": [
        "## Attributes of a Tensor"
      ]
    },
    {
      "cell_type": "code",
      "metadata": {
        "colab": {
          "base_uri": "https://localhost:8080/"
        },
        "id": "zJUaEqjej7Gh",
        "outputId": "b2d91dbe-e74c-411d-f874-c1fd99af9388"
      },
      "source": [
        "tensor = torch.rand(3,4)\n",
        "\n",
        "print(f\"Shape of a tensor: {tensor.shape}\")\n",
        "print(f\"Datatype of a tensor: {tensor.dtype}\")\n",
        "print(f\"Device tensor is stored on: {tensor.device}\")"
      ],
      "execution_count": 9,
      "outputs": [
        {
          "output_type": "stream",
          "name": "stdout",
          "text": [
            "Shape of a tensor: torch.Size([3, 4])\n",
            "Datatype of a tensor: torch.float32\n",
            "Device tensor is stored on: cpu\n"
          ]
        }
      ]
    },
    {
      "cell_type": "markdown",
      "metadata": {
        "id": "FaHSHRWWLKF6"
      },
      "source": [
        "## Operating on Tensors"
      ]
    },
    {
      "cell_type": "code",
      "metadata": {
        "id": "thIBfMcqkYnZ",
        "colab": {
          "base_uri": "https://localhost:8080/"
        },
        "outputId": "821511af-4155-4803-d5fa-d4904ab95a29"
      },
      "source": [
        "if torch.cuda.is_available(): \n",
        "  tensor = tensor.to('cuda')\n",
        "  print(f\"Device tensor is stored on: {tensor.device}\")"
      ],
      "execution_count": 10,
      "outputs": [
        {
          "output_type": "stream",
          "name": "stdout",
          "text": [
            "Device tensor is stored on: cuda:0\n"
          ]
        }
      ]
    },
    {
      "cell_type": "code",
      "metadata": {
        "colab": {
          "base_uri": "https://localhost:8080/"
        },
        "id": "tigB_l-aKbMQ",
        "outputId": "f7cfcb31-ed4f-43c9-896f-77684d0eb6df"
      },
      "source": [
        "tensor =  torch.ones(4,4)\n",
        "print(\"First Row: \", tensor[0])\n",
        "print(\"First Column: \", tensor[:, 0])\n",
        "print(\"Last column: \", tensor[..., -1])\n",
        "tensor[:, 1] = 0\n",
        "print(tensor)"
      ],
      "execution_count": 11,
      "outputs": [
        {
          "output_type": "stream",
          "name": "stdout",
          "text": [
            "First Row:  tensor([1., 1., 1., 1.])\n",
            "First Column:  tensor([1., 1., 1., 1.])\n",
            "Last column:  tensor([1., 1., 1., 1.])\n",
            "tensor([[1., 0., 1., 1.],\n",
            "        [1., 0., 1., 1.],\n",
            "        [1., 0., 1., 1.],\n",
            "        [1., 0., 1., 1.]])\n"
          ]
        }
      ]
    },
    {
      "cell_type": "code",
      "metadata": {
        "colab": {
          "base_uri": "https://localhost:8080/"
        },
        "id": "SumNwFGgK_Js",
        "outputId": "c4d043c9-7975-4793-f636-8039cd9a62e5"
      },
      "source": [
        "t_1 = torch.cat([tensor, tensor, tensor], dim = 1)\n",
        "print(t_1)"
      ],
      "execution_count": 12,
      "outputs": [
        {
          "output_type": "stream",
          "name": "stdout",
          "text": [
            "tensor([[1., 0., 1., 1., 1., 0., 1., 1., 1., 0., 1., 1.],\n",
            "        [1., 0., 1., 1., 1., 0., 1., 1., 1., 0., 1., 1.],\n",
            "        [1., 0., 1., 1., 1., 0., 1., 1., 1., 0., 1., 1.],\n",
            "        [1., 0., 1., 1., 1., 0., 1., 1., 1., 0., 1., 1.]])\n"
          ]
        }
      ]
    },
    {
      "cell_type": "code",
      "metadata": {
        "colab": {
          "base_uri": "https://localhost:8080/"
        },
        "id": "yHxJJJwx45gk",
        "outputId": "e038a819-ad2a-48c7-ad06-2cf97cee73b0"
      },
      "source": [
        "y1 = tensor @ tensor.T\n",
        "y2 = tensor.matmul(tensor.T)\n",
        "print(f\"value of tensor: {tensor} \\n\")\n",
        "print(f\"value of y1: {y1} \\n\")\n",
        "print(f\"value of y2: {y2} \\n\")\n",
        "\n",
        "y3 = torch.rand_like(tensor)\n",
        "torch.matmul(tensor, tensor.T, out = y3)\n",
        "print(f\"value of y3: {y3} \\n\")\n",
        "\n",
        "z1 = tensor * tensor\n",
        "z2 = tensor.mul(tensor)\n",
        "print(f\"value of z1: {z1} \\n\")\n",
        "print(f\"value of z2: {z2} \\n\")\n",
        "\n",
        "z3 = torch.rand_like(tensor)\n",
        "torch.mul(tensor, tensor, out = z3)\n",
        "print(f\"value of z3: {z3} \\n\")"
      ],
      "execution_count": 16,
      "outputs": [
        {
          "output_type": "stream",
          "name": "stdout",
          "text": [
            "value of tensor: tensor([[1., 0., 1., 1.],\n",
            "        [1., 0., 1., 1.],\n",
            "        [1., 0., 1., 1.],\n",
            "        [1., 0., 1., 1.]]) \n",
            "\n",
            "value of y1: tensor([[3., 3., 3., 3.],\n",
            "        [3., 3., 3., 3.],\n",
            "        [3., 3., 3., 3.],\n",
            "        [3., 3., 3., 3.]]) \n",
            "\n",
            "value of y2: tensor([[3., 3., 3., 3.],\n",
            "        [3., 3., 3., 3.],\n",
            "        [3., 3., 3., 3.],\n",
            "        [3., 3., 3., 3.]]) \n",
            "\n",
            "value of y3: tensor([[3., 3., 3., 3.],\n",
            "        [3., 3., 3., 3.],\n",
            "        [3., 3., 3., 3.],\n",
            "        [3., 3., 3., 3.]]) \n",
            "\n",
            "value of z1: tensor([[1., 0., 1., 1.],\n",
            "        [1., 0., 1., 1.],\n",
            "        [1., 0., 1., 1.],\n",
            "        [1., 0., 1., 1.]]) \n",
            "\n",
            "value of z2: tensor([[1., 0., 1., 1.],\n",
            "        [1., 0., 1., 1.],\n",
            "        [1., 0., 1., 1.],\n",
            "        [1., 0., 1., 1.]]) \n",
            "\n",
            "value of z3: tensor([[1., 0., 1., 1.],\n",
            "        [1., 0., 1., 1.],\n",
            "        [1., 0., 1., 1.],\n",
            "        [1., 0., 1., 1.]]) \n",
            "\n"
          ]
        }
      ]
    },
    {
      "cell_type": "code",
      "metadata": {
        "colab": {
          "base_uri": "https://localhost:8080/"
        },
        "id": "zSN5ISwM52-6",
        "outputId": "5fcbbbac-b33e-4507-f0b5-6a8dd082b81e"
      },
      "source": [
        "agg_1 = tensor.sum()\n",
        "agg_item = agg_1.item()\n",
        "print(agg_item, type(agg_item))"
      ],
      "execution_count": 17,
      "outputs": [
        {
          "output_type": "stream",
          "name": "stdout",
          "text": [
            "12.0 <class 'float'>\n"
          ]
        }
      ]
    },
    {
      "cell_type": "code",
      "metadata": {
        "colab": {
          "base_uri": "https://localhost:8080/"
        },
        "id": "2yNrqqh06oQh",
        "outputId": "f462e393-8d31-40ea-a9a0-92a1cad5ec56"
      },
      "source": [
        "print(tensor, \"\\n\")\n",
        "tensor.add_(5)\n",
        "print(tensor)"
      ],
      "execution_count": 18,
      "outputs": [
        {
          "output_type": "stream",
          "name": "stdout",
          "text": [
            "tensor([[1., 0., 1., 1.],\n",
            "        [1., 0., 1., 1.],\n",
            "        [1., 0., 1., 1.],\n",
            "        [1., 0., 1., 1.]]) \n",
            "\n",
            "tensor([[6., 5., 6., 6.],\n",
            "        [6., 5., 6., 6.],\n",
            "        [6., 5., 6., 6.],\n",
            "        [6., 5., 6., 6.]])\n"
          ]
        }
      ]
    },
    {
      "cell_type": "markdown",
      "metadata": {
        "id": "jQU5D5iW62op"
      },
      "source": [
        "## Bridging Torch Tensor with Numpy"
      ]
    },
    {
      "cell_type": "code",
      "metadata": {
        "colab": {
          "base_uri": "https://localhost:8080/"
        },
        "id": "n0wsc7u-6yQ3",
        "outputId": "c960555c-4aeb-4f53-ec25-d53150271676"
      },
      "source": [
        "t_1 = torch.ones(5)\n",
        "print(f\"t: {t_1}\")\n",
        "n = t_1.numpy()\n",
        "print(f\"n: {n}\")\n"
      ],
      "execution_count": 21,
      "outputs": [
        {
          "output_type": "stream",
          "name": "stdout",
          "text": [
            "t: tensor([1., 1., 1., 1., 1.])\n",
            "n: [1. 1. 1. 1. 1.]\n"
          ]
        }
      ]
    },
    {
      "cell_type": "code",
      "metadata": {
        "colab": {
          "base_uri": "https://localhost:8080/"
        },
        "id": "a-9Evsq_7MYo",
        "outputId": "f7452e5d-12a0-4075-b20a-1eb558cd2d16"
      },
      "source": [
        "t_1.add_(1)\n",
        "print(f\"t: {t_1}\")\n",
        "print(f\"n: {n}\")"
      ],
      "execution_count": 22,
      "outputs": [
        {
          "output_type": "stream",
          "name": "stdout",
          "text": [
            "t: tensor([2., 2., 2., 2., 2.])\n",
            "n: [2. 2. 2. 2. 2.]\n"
          ]
        }
      ]
    },
    {
      "cell_type": "markdown",
      "metadata": {
        "id": "H01kb4nk7Xla"
      },
      "source": [
        "## Numpy Array to Tensor"
      ]
    },
    {
      "cell_type": "code",
      "metadata": {
        "colab": {
          "base_uri": "https://localhost:8080/"
        },
        "id": "4GXvGC527VxE",
        "outputId": "0f0f8605-e7bf-49d6-8c32-563462630910"
      },
      "source": [
        "n_1 = np.ones(5)\n",
        "t_2 =  torch.from_numpy(n_1)\n",
        "np.add(n_1, 1, out = n_1)\n",
        "print(f\"t: {t_2}\")\n",
        "print(f\"n: {n_1}\")"
      ],
      "execution_count": 23,
      "outputs": [
        {
          "output_type": "stream",
          "name": "stdout",
          "text": [
            "t: tensor([2., 2., 2., 2., 2.], dtype=torch.float64)\n",
            "n: [2. 2. 2. 2. 2.]\n"
          ]
        }
      ]
    },
    {
      "cell_type": "code",
      "metadata": {
        "id": "_ATfqun47qwz"
      },
      "source": [
        ""
      ],
      "execution_count": null,
      "outputs": []
    }
  ]
}