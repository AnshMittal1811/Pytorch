{
  "nbformat": 4,
  "nbformat_minor": 0,
  "metadata": {
    "colab": {
      "name": "04_Training_a_Neural_Network.ipynb",
      "provenance": [],
      "collapsed_sections": [],
      "authorship_tag": "ABX9TyOLOIDHFTxrJbKMlbM3t6IM",
      "include_colab_link": true
    },
    "kernelspec": {
      "name": "python3",
      "display_name": "Python 3"
    },
    "language_info": {
      "name": "python"
    },
    "accelerator": "GPU"
  },
  "cells": [
    {
      "cell_type": "markdown",
      "metadata": {
        "id": "view-in-github",
        "colab_type": "text"
      },
      "source": [
        "<a href=\"https://colab.research.google.com/github/AnshMittal1811/Pytorch/blob/master/04_Training_a_Neural_Network.ipynb\" target=\"_parent\"><img src=\"https://colab.research.google.com/assets/colab-badge.svg\" alt=\"Open In Colab\"/></a>"
      ]
    },
    {
      "cell_type": "markdown",
      "metadata": {
        "id": "zFi3WAtQ69-4"
      },
      "source": [
        "Neural networks comprise of layers/modules that perform operations on data. The torch.nn namespace provides all the building blocks you need to build your own neural network. Every module in PyTorch subclasses the nn.Module. A neural network is a module itself that consists of other modules (layers). This nested structure allows for building and managing complex architectures easily.\n",
        "\n",
        "In the following sections, we’ll build a neural network to classify images in the FashionMNIST dataset."
      ]
    },
    {
      "cell_type": "code",
      "metadata": {
        "id": "-GgRyETExnVz"
      },
      "source": [
        "import os\n",
        "import torch\n",
        "from torch import nn\n",
        "from torch.utils.data import DataLoader\n",
        "from torchvision import datasets, transforms"
      ],
      "execution_count": 1,
      "outputs": []
    },
    {
      "cell_type": "markdown",
      "metadata": {
        "id": "gbybh_lJzQ1M"
      },
      "source": [
        "## Device to train the neural network\n",
        "\n",
        "We want to be able to train our model on a hardware accelerator like the GPU, if it is available. Let’s check to see if torch.cuda is available, else we continue to use the CPU."
      ]
    },
    {
      "cell_type": "code",
      "metadata": {
        "colab": {
          "base_uri": "https://localhost:8080/"
        },
        "id": "Qq28hkgkzPy9",
        "outputId": "e901a129-f61d-423a-894e-25b53c30d2fa"
      },
      "source": [
        "device = \"cuda\" if torch.cuda.is_available() else \"cpu\"\n",
        "print(f\"Using {device} device\")"
      ],
      "execution_count": 2,
      "outputs": [
        {
          "output_type": "stream",
          "name": "stdout",
          "text": [
            "Using cuda device\n"
          ]
        }
      ]
    },
    {
      "cell_type": "markdown",
      "metadata": {
        "id": "Z2cb3T0ez77w"
      },
      "source": [
        "## Define the Class\n",
        "\n",
        "We define our neural network by subclassing ```nn.Module```, and initialize the neural network layers in ```__init__```. Every ```nn.Module``` subclass implements the operations on input data in the ```forward``` method.\n",
        "\n"
      ]
    },
    {
      "cell_type": "code",
      "metadata": {
        "id": "Cdv6PPAHz5_m"
      },
      "source": [
        "class NeuralNetwork(nn.Module):\n",
        "  def __init__(self): \n",
        "    super(NeuralNetwork, self).__init__()\n",
        "\n",
        "    self.flatten = nn.Flatten()\n",
        "    self.linear_relu_stack = nn.Sequential(\n",
        "        nn.Linear(28*28, 512),\n",
        "        nn.ReLU(), \n",
        "        nn.Linear(512, 512),\n",
        "        nn.ReLU(), \n",
        "        nn.Linear(512, 10),\n",
        "    )\n",
        "  def forward(self, x):\n",
        "    x = self.flatten(x)\n",
        "    logits = self.linear_relu_stack(x)\n",
        "    return logits"
      ],
      "execution_count": 5,
      "outputs": []
    },
    {
      "cell_type": "markdown",
      "metadata": {
        "id": "RKl3HZhy6t_y"
      },
      "source": [
        "We create an instance of ```NeuralNetwork```, and move it to the ```device```, and print its structure."
      ]
    },
    {
      "cell_type": "code",
      "metadata": {
        "colab": {
          "base_uri": "https://localhost:8080/"
        },
        "id": "1qfsbGHh0oCX",
        "outputId": "b682b198-1533-485e-bf78-496b70d59e26"
      },
      "source": [
        "model = NeuralNetwork().to(device)\n",
        "print(model)"
      ],
      "execution_count": 6,
      "outputs": [
        {
          "output_type": "stream",
          "name": "stdout",
          "text": [
            "NeuralNetwork(\n",
            "  (flatten): Flatten(start_dim=1, end_dim=-1)\n",
            "  (linear_relu_stack): Sequential(\n",
            "    (0): Linear(in_features=784, out_features=512, bias=True)\n",
            "    (1): ReLU()\n",
            "    (2): Linear(in_features=512, out_features=512, bias=True)\n",
            "    (3): ReLU()\n",
            "    (4): Linear(in_features=512, out_features=10, bias=True)\n",
            "  )\n",
            ")\n"
          ]
        }
      ]
    },
    {
      "cell_type": "markdown",
      "metadata": {
        "id": "9GmLt-876nLW"
      },
      "source": [
        "To use the model, we pass it the input data. This executes the model’s ```forward```, along with some background operations. Do not call ```model.forward()``` directly!\n",
        "\n",
        "Calling the model on the input returns a 10-dimensional tensor with raw predicted values for each class. We get the prediction probabilities by passing it through an instance of the nn.Softmax module.\n",
        "\n"
      ]
    },
    {
      "cell_type": "code",
      "metadata": {
        "colab": {
          "base_uri": "https://localhost:8080/"
        },
        "id": "ucU8w7Jk0rhq",
        "outputId": "123141f6-6961-47ec-c387-4017fc4a1e54"
      },
      "source": [
        "X = torch.rand(1, 28, 28, device=device)\n",
        "logits = model(X)\n",
        "pred_prob = nn.Softmax(dim=1)(logits)\n",
        "y_pred = pred_prob.argmax(1)\n",
        "print(f\"Predicted Class: {y_pred}\")"
      ],
      "execution_count": 7,
      "outputs": [
        {
          "output_type": "stream",
          "name": "stdout",
          "text": [
            "Predicted Class: tensor([8], device='cuda:0')\n"
          ]
        }
      ]
    },
    {
      "cell_type": "markdown",
      "metadata": {
        "id": "hY7n9rIPmj8m"
      },
      "source": [
        "-----------\n",
        "\n",
        "## Model Layers\n",
        "\n",
        "Let’s break down the layers in the FashionMNIST model. To illustrate it, we will take a sample minibatch of 3 images of size 28x28 and see what happens to it as we pass it through the network.\n",
        "\n"
      ]
    },
    {
      "cell_type": "code",
      "metadata": {
        "colab": {
          "base_uri": "https://localhost:8080/"
        },
        "id": "sjHsXWWPmhAw",
        "outputId": "d8c13155-abc6-4217-dcbf-a7efde8a373c"
      },
      "source": [
        "input_img =  torch.rand(3, 28, 28)\n",
        "print(input_img.size())"
      ],
      "execution_count": 9,
      "outputs": [
        {
          "output_type": "stream",
          "name": "stdout",
          "text": [
            "torch.Size([3, 28, 28])\n"
          ]
        }
      ]
    },
    {
      "cell_type": "markdown",
      "metadata": {
        "id": "VOuz_G5M5Gdv"
      },
      "source": [
        "## nn.Flatten\n",
        "We initialize the nn.Flatten layer to convert each 2D 28x28 image into a contiguous array of 784 pixel values ( the minibatch dimension (at dim=0) is maintained).\n",
        "\n"
      ]
    },
    {
      "cell_type": "code",
      "metadata": {
        "colab": {
          "base_uri": "https://localhost:8080/"
        },
        "id": "hgELJ7bG5Dei",
        "outputId": "3fa814db-3705-4804-926c-b4e6692d3d98"
      },
      "source": [
        "flatten = nn.Flatten()\n",
        "flat_img = flatten(input_img)\n",
        "print(flat_img.size())"
      ],
      "execution_count": 10,
      "outputs": [
        {
          "output_type": "stream",
          "name": "stdout",
          "text": [
            "torch.Size([3, 784])\n"
          ]
        }
      ]
    },
    {
      "cell_type": "markdown",
      "metadata": {
        "id": "dYjB-lel6QFj"
      },
      "source": [
        "## nn.Linear \n",
        "\n",
        "The linear layer is a module that applies a linear transformation on the input using its stored weights and biases.\n",
        "\n"
      ]
    },
    {
      "cell_type": "code",
      "metadata": {
        "colab": {
          "base_uri": "https://localhost:8080/"
        },
        "id": "4KQ1wdSl6XAS",
        "outputId": "2c643674-3c51-4b52-f06b-d8f92439c36d"
      },
      "source": [
        "layer1 = nn.Linear(in_features=28*28, out_features=20)\n",
        "hidden1 = layer1(flat_img)\n",
        "print(hidden1.size())"
      ],
      "execution_count": 13,
      "outputs": [
        {
          "output_type": "stream",
          "name": "stdout",
          "text": [
            "torch.Size([3, 20])\n"
          ]
        }
      ]
    },
    {
      "cell_type": "markdown",
      "metadata": {
        "id": "dQE5rgCB6DEi"
      },
      "source": [
        "# nn.ReLU\n",
        "\n",
        "Non-linear activations are what create the complex mappings between the model’s inputs and outputs. They are applied after linear transformations to introduce nonlinearity, helping neural networks learn a wide variety of phenomena.\n",
        "\n",
        "In this model, we use ```nn.ReLU``` between our linear layers, but there’s other activations to introduce non-linearity in your model.\n",
        "\n"
      ]
    },
    {
      "cell_type": "code",
      "metadata": {
        "colab": {
          "base_uri": "https://localhost:8080/"
        },
        "id": "PzvOhu7t5SVs",
        "outputId": "a7c45a80-d5c8-4022-fd3b-9369fd0fe596"
      },
      "source": [
        "print(f\"Before ReLU: {hidden1}\\n\\n\")\n",
        "hidden1 = nn.ReLU()(hidden1)\n",
        "print(f\"After ReLU: {hidden1}\")"
      ],
      "execution_count": 14,
      "outputs": [
        {
          "output_type": "stream",
          "name": "stdout",
          "text": [
            "Before ReLU: tensor([[-0.2615,  0.1901, -0.0063,  0.2940,  0.0804,  0.0881,  0.0576, -0.2771,\n",
            "         -0.1235,  0.7038,  0.4804, -0.0816,  0.4987, -0.1458,  0.0797, -0.9553,\n",
            "         -0.0090, -0.6810,  0.1233, -0.6272],\n",
            "        [-0.0079,  0.2747, -0.2281,  0.3088, -0.0808,  0.0985,  0.2077, -0.2825,\n",
            "         -0.1751,  0.6931,  0.2751, -0.3432,  0.3762, -0.0102, -0.1423, -0.8367,\n",
            "          0.0872, -0.3589,  0.4555, -0.5316],\n",
            "        [-0.3485, -0.0337, -0.0140,  0.3045,  0.2762,  0.0876,  0.0954,  0.0203,\n",
            "         -0.3411,  0.2113,  0.2906, -0.0050,  0.4157,  0.2901,  0.3068, -0.7661,\n",
            "         -0.0366, -0.3191, -0.0357, -0.4231]], grad_fn=<AddmmBackward0>)\n",
            "\n",
            "\n",
            "After ReLU: tensor([[0.0000, 0.1901, 0.0000, 0.2940, 0.0804, 0.0881, 0.0576, 0.0000, 0.0000,\n",
            "         0.7038, 0.4804, 0.0000, 0.4987, 0.0000, 0.0797, 0.0000, 0.0000, 0.0000,\n",
            "         0.1233, 0.0000],\n",
            "        [0.0000, 0.2747, 0.0000, 0.3088, 0.0000, 0.0985, 0.2077, 0.0000, 0.0000,\n",
            "         0.6931, 0.2751, 0.0000, 0.3762, 0.0000, 0.0000, 0.0000, 0.0872, 0.0000,\n",
            "         0.4555, 0.0000],\n",
            "        [0.0000, 0.0000, 0.0000, 0.3045, 0.2762, 0.0876, 0.0954, 0.0203, 0.0000,\n",
            "         0.2113, 0.2906, 0.0000, 0.4157, 0.2901, 0.3068, 0.0000, 0.0000, 0.0000,\n",
            "         0.0000, 0.0000]], grad_fn=<ReluBackward0>)\n"
          ]
        }
      ]
    },
    {
      "cell_type": "markdown",
      "metadata": {
        "id": "qC1XCziw7HU6"
      },
      "source": [
        "## nn.Sequential\n",
        "nn.Sequential is an ordered container of modules. The data is passed through all the modules in the same order as defined. You can use sequential containers to put together a quick network like ```seq_modules```.\n",
        "\n"
      ]
    },
    {
      "cell_type": "code",
      "metadata": {
        "id": "y7oguMnb6KIB"
      },
      "source": [
        "seq_modules = nn.Sequential(\n",
        "    flatten,\n",
        "    layer1,\n",
        "    nn.ReLU(),\n",
        "    nn.Linear(20, 10)\n",
        ")\n",
        "input_image = torch.rand(3,28,28)\n",
        "logits = seq_modules(input_image)"
      ],
      "execution_count": 15,
      "outputs": []
    },
    {
      "cell_type": "markdown",
      "metadata": {
        "id": "mLP4iY907N8T"
      },
      "source": [
        "## nn.Softmax\n",
        "The last linear layer of the neural network returns logits - raw values in [-infty, infty] - which are passed to the ```nn.Softmax``` module. The logits are scaled to values [0, 1] representing the model’s predicted probabilities for each class. ```dim``` parameter indicates the dimension along which the values must sum to 1.\n",
        "\n"
      ]
    },
    {
      "cell_type": "code",
      "metadata": {
        "id": "7W0Cl6467NEg"
      },
      "source": [
        "softmax = nn.Softmax(dim=1)\n",
        "pred_probab = softmax(logits)"
      ],
      "execution_count": 16,
      "outputs": []
    },
    {
      "cell_type": "markdown",
      "metadata": {
        "id": "J41bBQ7T7YoZ"
      },
      "source": [
        "## Model Parameters\n",
        "Many layers inside a neural network are parameterized, i.e. have associated weights and biases that are optimized during training. Subclassing ```nn.Module``` automatically tracks all fields defined inside your model object, and makes all parameters accessible using your model’s ```parameters()``` or ```named_parameters()``` methods.\n",
        "\n",
        "In this example, we iterate over each parameter, and print its size and a preview of its values.\n",
        "\n"
      ]
    },
    {
      "cell_type": "code",
      "metadata": {
        "colab": {
          "base_uri": "https://localhost:8080/"
        },
        "id": "DwZPqR1w7XJl",
        "outputId": "c5ed466d-f243-44a2-f8a4-a856faac0d18"
      },
      "source": [
        "print(\"Model structure: \", model, \"\\n\\n\")\n",
        "\n",
        "for name, param in model.named_parameters(): \n",
        "  print(f\"Layer: {name} | Size: {param.size()} | Values: {param[:2]} \\n\")"
      ],
      "execution_count": 17,
      "outputs": [
        {
          "output_type": "stream",
          "name": "stdout",
          "text": [
            "Model structure:  NeuralNetwork(\n",
            "  (flatten): Flatten(start_dim=1, end_dim=-1)\n",
            "  (linear_relu_stack): Sequential(\n",
            "    (0): Linear(in_features=784, out_features=512, bias=True)\n",
            "    (1): ReLU()\n",
            "    (2): Linear(in_features=512, out_features=512, bias=True)\n",
            "    (3): ReLU()\n",
            "    (4): Linear(in_features=512, out_features=10, bias=True)\n",
            "  )\n",
            ") \n",
            "\n",
            "\n",
            "Layer: linear_relu_stack.0.weight | Size: torch.Size([512, 784]) | Values: tensor([[-0.0327, -0.0076,  0.0314,  ...,  0.0144,  0.0097, -0.0192],\n",
            "        [-0.0175, -0.0199,  0.0109,  ..., -0.0098,  0.0008, -0.0356]],\n",
            "       device='cuda:0', grad_fn=<SliceBackward0>) \n",
            "\n",
            "Layer: linear_relu_stack.0.bias | Size: torch.Size([512]) | Values: tensor([ 0.0208, -0.0222], device='cuda:0', grad_fn=<SliceBackward0>) \n",
            "\n",
            "Layer: linear_relu_stack.2.weight | Size: torch.Size([512, 512]) | Values: tensor([[ 0.0344, -0.0240,  0.0012,  ...,  0.0387,  0.0272,  0.0322],\n",
            "        [-0.0145,  0.0208, -0.0432,  ..., -0.0439,  0.0062, -0.0423]],\n",
            "       device='cuda:0', grad_fn=<SliceBackward0>) \n",
            "\n",
            "Layer: linear_relu_stack.2.bias | Size: torch.Size([512]) | Values: tensor([-0.0186, -0.0315], device='cuda:0', grad_fn=<SliceBackward0>) \n",
            "\n",
            "Layer: linear_relu_stack.4.weight | Size: torch.Size([10, 512]) | Values: tensor([[ 0.0165,  0.0155,  0.0163,  ..., -0.0401,  0.0085, -0.0306],\n",
            "        [-0.0149,  0.0026,  0.0002,  ...,  0.0069, -0.0375,  0.0435]],\n",
            "       device='cuda:0', grad_fn=<SliceBackward0>) \n",
            "\n",
            "Layer: linear_relu_stack.4.bias | Size: torch.Size([10]) | Values: tensor([-7.6956e-03,  4.4117e-05], device='cuda:0', grad_fn=<SliceBackward0>) \n",
            "\n"
          ]
        }
      ]
    },
    {
      "cell_type": "markdown",
      "metadata": {
        "id": "M1HR2Mvp71QT"
      },
      "source": [
        "------"
      ]
    }
  ]
}