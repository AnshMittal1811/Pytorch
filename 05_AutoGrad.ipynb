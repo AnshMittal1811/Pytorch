{
  "nbformat": 4,
  "nbformat_minor": 0,
  "metadata": {
    "colab": {
      "name": "05_AutoGrad.ipynb",
      "provenance": [],
      "authorship_tag": "ABX9TyOsmCf6n+X3/iFrDDZj+k9G"
    },
    "kernelspec": {
      "name": "python3",
      "display_name": "Python 3"
    },
    "language_info": {
      "name": "python"
    }
  },
  "cells": [
    {
      "cell_type": "markdown",
      "metadata": {
        "id": "b_Zwr6XFlKVI"
      },
      "source": [
        "# Automatic Differentiation with ```TORCH.AUTOGRAD```\n",
        "\n",
        "When training neural networks, the most frequently used algorithm is **back propagation**. In this algorithm, parameters (model weights) are adjusted according to the **gradient** of the loss function with respect to the given parameter.\n",
        "\n",
        "To compute those gradients, PyTorch has a built-in differentiation engine called torch.autograd. It supports automatic computation of gradient for any computational graph.\n",
        "\n",
        "Consider the simplest one-layer neural network, with input x, parameters w and b, and some loss function. It can be defined in PyTorch in the following manner:\n",
        "\n"
      ]
    },
    {
      "cell_type": "code",
      "metadata": {
        "id": "iOwPSB5ilJwf"
      },
      "source": [
        "import torch\n",
        "\n",
        "x = torch.ones(5)\n",
        "y = torch.zeros(3)\n",
        "w = torch.randn(5, 3, requires_grad = True)\n",
        "b = torch.randn(3, requires_grad = True)\n",
        "\n",
        "z = torch.matmul(x, w) + b\n",
        "\n",
        "loss = torch.nn.functional.binary_cross_entropy_with_logits(z, y)"
      ],
      "execution_count": 1,
      "outputs": []
    },
    {
      "cell_type": "markdown",
      "metadata": {
        "id": "LfTkFAQ9YTjK"
      },
      "source": [
        "## Tensors, Functions and Computational Graph\n",
        "This code defines the following computational graph.\n",
        "![image.png](data:image/png;base64,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)\n",
        "In this network, ```w``` and ```b``` are **parameters**, which we need to optimize. Thus, we need to be able to compute the gradients of loss function with respect to those variables. In order to do that, we set the ```requires_grad``` property of those tensors.\n",
        "\n",
        "**NOTE:** You can set the value of requires_grad when creating a tensor, or later by using x.requires_grad_(True) method.\n",
        "\n",
        "A function that we apply to tensors to construct computational graph is in fact an object of class ```Function```. This object knows how to compute the function in the _forward_ direction, and also how to compute its derivative during the backward propagation step. A reference to the backward propagation function is stored in ```grad_fn``` property of a tensor. You can find more information of Function in the documentation.\n",
        "\n",
        "\n",
        "\n",
        "\n",
        "\n"
      ]
    },
    {
      "cell_type": "code",
      "metadata": {
        "colab": {
          "base_uri": "https://localhost:8080/"
        },
        "id": "EfcjPQf5X-TD",
        "outputId": "d5fa6f41-d1ed-496a-a878-a6c8793a234e"
      },
      "source": [
        "print(f\"Gradient function for z = {z.grad_fn}\")\n",
        "print(f\"Gradient function for loss = {loss.grad_fn}\")"
      ],
      "execution_count": 2,
      "outputs": [
        {
          "output_type": "stream",
          "name": "stdout",
          "text": [
            "Gradient function for z = <AddBackward0 object at 0x7f6b6f5477d0>\n",
            "Gradient function for loss = <BinaryCrossEntropyWithLogitsBackward0 object at 0x7f6b6f5dd2d0>\n"
          ]
        }
      ]
    },
    {
      "cell_type": "markdown",
      "metadata": {
        "id": "v70FoZ2oZH7u"
      },
      "source": [
        "## Computing Gradients\n",
        "\n",
        "To optimize weights of parameters in the neural network, we need to compute the derivatives of our loss function with respect to parameters, namely, we need ∂loss\n",
        "and \\frac{\\partial loss}{\\partial b} \n",
        "∂b\n",
        "∂loss\n",
        "​\n",
        "  under some fixed values of ```x``` and ```y```. To compute those derivatives, we call ```loss.backward()```, and then retrieve the values from ```w.grad``` and ```b.grad```:\n",
        "\n"
      ]
    },
    {
      "cell_type": "code",
      "metadata": {
        "colab": {
          "base_uri": "https://localhost:8080/"
        },
        "id": "lmmTEVgdZGAk",
        "outputId": "b6f0b2f9-a29f-4a77-993c-99028f9c5d5c"
      },
      "source": [
        "loss.backward()\n",
        "print(w.grad)\n",
        "print(b.grad)\n"
      ],
      "execution_count": 3,
      "outputs": [
        {
          "output_type": "stream",
          "name": "stdout",
          "text": [
            "tensor([[0.0296, 0.0498, 0.2974],\n",
            "        [0.0296, 0.0498, 0.2974],\n",
            "        [0.0296, 0.0498, 0.2974],\n",
            "        [0.0296, 0.0498, 0.2974],\n",
            "        [0.0296, 0.0498, 0.2974]])\n",
            "tensor([0.0296, 0.0498, 0.2974])\n"
          ]
        }
      ]
    },
    {
      "cell_type": "markdown",
      "metadata": {
        "id": "3qxzOtSmZlNt"
      },
      "source": [
        "**Note:**\n",
        "*   We can only obtain the ```grad``` properties for the leaf nodes of the computational graph, which have ```requires_grad``` property set to ```True```. For all other nodes in our graph, gradients will not be available.\n",
        "*   We can only perform gradient calculations using backward once on a given graph, for performance reasons. If we need to do several backward calls on the same graph, we need to pass ```retain_graph=True``` to the ```backward``` call.\n",
        "\n",
        "\n",
        "\n",
        "\n"
      ]
    },
    {
      "cell_type": "markdown",
      "metadata": {
        "id": "Q7NZ-WLqacUE"
      },
      "source": [
        "## Disabling Gradient Tracking\n",
        "\n",
        "By default, all tensors with ```requires_grad=True``` are tracking their computational history and support gradient computation. However, there are some cases when we do not need to do that, for example, when we have trained the model and just want to apply it to some input data, i.e. we only want to do forward computations through the network. We can stop tracking computations by surrounding our computation code with ```torch.no_grad()``` block:\n",
        "\n"
      ]
    },
    {
      "cell_type": "code",
      "metadata": {
        "colab": {
          "base_uri": "https://localhost:8080/"
        },
        "id": "hjv35l8BZi6f",
        "outputId": "b2dcf476-6e53-4421-c2e6-c34ef29b379c"
      },
      "source": [
        "z = torch.matmul(x, w)+b\n",
        "print(z.requires_grad)\n",
        "\n",
        "with torch.no_grad():\n",
        "    z = torch.matmul(x, w)+b\n",
        "print(z.requires_grad)"
      ],
      "execution_count": 4,
      "outputs": [
        {
          "output_type": "stream",
          "name": "stdout",
          "text": [
            "True\n",
            "False\n"
          ]
        }
      ]
    },
    {
      "cell_type": "markdown",
      "metadata": {
        "id": "se2fbJfnanr0"
      },
      "source": [
        "Another way to achieve the same result is to use the ```detach()``` method on the tensor:\n",
        "\n"
      ]
    },
    {
      "cell_type": "code",
      "metadata": {
        "colab": {
          "base_uri": "https://localhost:8080/"
        },
        "id": "sHanBmg7al4X",
        "outputId": "f4f34650-bb31-4562-e451-ffddb61e4d5b"
      },
      "source": [
        "z = torch.matmul(x, w)+b\n",
        "z_det = z.detach()\n",
        "print(z_det.requires_grad)"
      ],
      "execution_count": 5,
      "outputs": [
        {
          "output_type": "stream",
          "name": "stdout",
          "text": [
            "False\n"
          ]
        }
      ]
    },
    {
      "cell_type": "markdown",
      "metadata": {
        "id": "mkgBUNI2aumE"
      },
      "source": [
        "There are reasons you might want to disable gradient tracking:\n",
        "\n",
        "*    To mark some parameters in your neural network as **frozen parameters**. This is a very common scenario for finetuning a pretrained network\n",
        "*    To **speed up computations** when you are only doing forward pass, because computations on tensors that do not track gradients would be more efficient.\n"
      ]
    },
    {
      "cell_type": "markdown",
      "metadata": {
        "id": "mXTpKGwlcY2C"
      },
      "source": [
        "## More on Computational Graphs\n",
        "\n",
        "Conceptually, autograd keeps a record of data (tensors) and all executed operations (along with the resulting new tensors) in a directed acyclic graph (DAG) consisting of Function objects. In this DAG, leaves are the input tensors, roots are the output tensors. By tracing this graph from roots to leaves, you can automatically compute the gradients using the chain rule.\n",
        "\n",
        "In a forward pass, autograd does two things simultaneously:\n",
        "\n",
        "* run the requested operation to compute a resulting tensor\n",
        "* maintain the operation’s gradient function in the DAG.\n",
        "The backward pass kicks off when ```.backward()``` is called on the DAG root. ```autograd``` then:\n",
        "\n",
        "* computes the gradients from each **```.grad_fn```**,\n",
        "* accumulates them in the respective tensor’s ```.grad``` attribute\n",
        "* using the chain rule, propagates all the way to the leaf tensors.\n"
      ]
    },
    {
      "cell_type": "markdown",
      "metadata": {
        "id": "SrJe2Fqlc3iV"
      },
      "source": [
        "## Tensor Gradients and Jacobian Products\n",
        "\n",
        "In many cases, we have a scalar loss function, and we need to compute the gradient with respect to some parameters. However, there are cases when the output function is an arbitrary tensor. In this case, PyTorch allows you to compute so-called Jacobian product, and not the actual gradient.\n",
        "Instead of computing the Jacobian matrix itself, PyTorch allows you to compute Jacobian Product v^T\\cdot Jv \n",
        "T ⋅J for a given input vector v=(v_1 \\dots v_m)v=(v1 …v m). This is achieved by calling backward with vv as an argument. The size of vv should be the same as the size of the original tensor, with respect to which we want to compute the product:\n",
        "\n",
        "\n",
        "\n"
      ]
    },
    {
      "cell_type": "code",
      "metadata": {
        "colab": {
          "base_uri": "https://localhost:8080/"
        },
        "id": "NS9ODiccar3Y",
        "outputId": "08419d47-c99f-4607-cfd5-8b09d49c7bb7"
      },
      "source": [
        "inp = torch.eye(5, requires_grad=True)\n",
        "out = (inp+1).pow(2)\n",
        "out.backward(torch.ones_like(inp), retain_graph=True)\n",
        "print(\"First call\\n\", inp.grad)\n",
        "out.backward(torch.ones_like(inp), retain_graph=True)\n",
        "print(\"\\nSecond call\\n\", inp.grad)\n",
        "inp.grad.zero_()\n",
        "out.backward(torch.ones_like(inp), retain_graph=True)\n",
        "print(\"\\nCall after zeroing gradients\\n\", inp.grad)"
      ],
      "execution_count": 6,
      "outputs": [
        {
          "output_type": "stream",
          "name": "stdout",
          "text": [
            "First call\n",
            " tensor([[4., 2., 2., 2., 2.],\n",
            "        [2., 4., 2., 2., 2.],\n",
            "        [2., 2., 4., 2., 2.],\n",
            "        [2., 2., 2., 4., 2.],\n",
            "        [2., 2., 2., 2., 4.]])\n",
            "\n",
            "Second call\n",
            " tensor([[8., 4., 4., 4., 4.],\n",
            "        [4., 8., 4., 4., 4.],\n",
            "        [4., 4., 8., 4., 4.],\n",
            "        [4., 4., 4., 8., 4.],\n",
            "        [4., 4., 4., 4., 8.]])\n",
            "\n",
            "Call after zeroing gradients\n",
            " tensor([[4., 2., 2., 2., 2.],\n",
            "        [2., 4., 2., 2., 2.],\n",
            "        [2., 2., 4., 2., 2.],\n",
            "        [2., 2., 2., 4., 2.],\n",
            "        [2., 2., 2., 2., 4.]])\n"
          ]
        }
      ]
    },
    {
      "cell_type": "markdown",
      "metadata": {
        "id": "_ByYm8oDdNaN"
      },
      "source": [
        "Notice that when we call ```backward``` for the second time with the same argument, the value of the gradient is different. This happens because when doing ```backward``` propagation, PyTorch **accumulates the gradients**, i.e. the value of computed gradients is added to the ```grad``` property of all leaf nodes of computational graph. If you want to compute the proper gradients, you need to zero out the grad property before. In real-life training an optimizer helps us to do this.\n",
        "\n",
        "**Note:** Previously we were calling ```backward()``` function without parameters. This is essentially equivalent to calling ```backward(torch.tensor(1.0))```, which is a useful way to compute the gradients in case of a scalar-valued function, such as loss during neural network training.\n",
        "\n"
      ]
    },
    {
      "cell_type": "code",
      "metadata": {
        "id": "kjqizWIDdL3e"
      },
      "source": [
        ""
      ],
      "execution_count": null,
      "outputs": []
    }
  ]
}