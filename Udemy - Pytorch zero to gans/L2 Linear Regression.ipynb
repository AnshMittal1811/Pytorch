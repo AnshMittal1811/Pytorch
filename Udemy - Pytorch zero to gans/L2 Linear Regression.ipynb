{
 "cells": [
  {
   "cell_type": "markdown",
   "metadata": {},
   "source": [
    "# Linear Regression with PyTorch"
   ]
  },
  {
   "cell_type": "markdown",
   "metadata": {},
   "source": [
    "Discusses one of the foundational algorithms of machine learning in this tutorial of Linear regression. We'll create a model that predicts crop yields for apples and oranges (**target variables**) by looking at the average temperature, rainfall and humidity (**input variables** or **features**) in a region. Here's the training data:\n",
    "\n",
    "![Dataset to be used](./Images/1.png \"Dataset\")\n",
    "\n",
    "In a linear regression model, each target variable is estimated to be a weighted sum of the input variables, offset by some constant, known as a bias :\n",
    "\n",
    "\\begin{equation*}\n",
    "yield_{apple}  = w_{11} * temp + w_{12} * rainfall + w_{13} * humidity + b_1\n",
    "\\end{equation*}\n",
    "\\begin{equation*}\n",
    "yield_{orange} = w_{21} * temp + w_{22} * rainfall + w_{23} * humidity + b_2\n",
    "\\end{equation*}\n",
    "\n",
    "Visually, it means that the yield of apples is a linear or planar function of temperature, rainfall and humidity:\n",
    "\n",
    "![Visual Representation](./Images/2.png \"Visualization\")\n",
    "\n",
    "The learning part of linear regression is to figure out a set of weights <code>w11, w12,... w23, b1 & b2</code> by looking at the training data, to make accurate predictions for new data (i.e. to predict the yields for apples and oranges in a new region using the average temperature, rainfall and humidity). This is done by adjusting the weights slightly many times to make better predictions, using an optimization technique called **gradient descent**.\n",
    "\n",
    "\n"
   ]
  },
  {
   "cell_type": "code",
   "execution_count": 1,
   "metadata": {},
   "outputs": [],
   "source": [
    "import numpy as np\n",
    "import torch"
   ]
  },
  {
   "cell_type": "markdown",
   "metadata": {},
   "source": [
    "## Training data\n",
    "The training data can be represented using 2 matrices: <code>inputs</code> and <code>targets</code>, each with one row per observation, and one column per variable.\n",
    "\n"
   ]
  },
  {
   "cell_type": "code",
   "execution_count": 2,
   "metadata": {},
   "outputs": [],
   "source": [
    "# Input (temp, rainfall, humidity)\n",
    "inputs = np.array([[73, 67, 43], \n",
    "                   [91, 88, 64], \n",
    "                   [87, 134, 58], \n",
    "                   [102, 43, 37], \n",
    "                   [69, 96, 70]], dtype='float32')"
   ]
  },
  {
   "cell_type": "code",
   "execution_count": 3,
   "metadata": {},
   "outputs": [],
   "source": [
    "# Targets (apples, oranges)\n",
    "targets = np.array([[56, 70], \n",
    "                    [81, 101], \n",
    "                    [119, 133], \n",
    "                    [22, 37], \n",
    "                    [103, 119]], dtype='float32')"
   ]
  },
  {
   "cell_type": "markdown",
   "metadata": {},
   "source": [
    "We've separated the input and target variables, because we'll operate on them separately. Also, we've created numpy arrays, because this is typically how you would work with training data: read some <code>CSV files</code> as <code>numpy arrays</code>, do some processing, and then convert them to <code>PyTorch tensors</code> as follows:"
   ]
  },
  {
   "cell_type": "code",
   "execution_count": 4,
   "metadata": {},
   "outputs": [
    {
     "name": "stdout",
     "output_type": "stream",
     "text": [
      "tensor([[ 73.,  67.,  43.],\n",
      "        [ 91.,  88.,  64.],\n",
      "        [ 87., 134.,  58.],\n",
      "        [102.,  43.,  37.],\n",
      "        [ 69.,  96.,  70.]])\n",
      "tensor([[ 56.,  70.],\n",
      "        [ 81., 101.],\n",
      "        [119., 133.],\n",
      "        [ 22.,  37.],\n",
      "        [103., 119.]])\n"
     ]
    }
   ],
   "source": [
    "# Convert inputs and targets to tensors\n",
    "inputs = torch.from_numpy(inputs)\n",
    "targets = torch.from_numpy(targets)\n",
    "print(inputs)\n",
    "print(targets)"
   ]
  },
  {
   "cell_type": "markdown",
   "metadata": {},
   "source": [
    "## Linear regression model from scratch\n",
    "The weights and biases (<code>w11, w12,... w23, b1 & b2</code>) can also be represented as matrices, initialized as random values. The first row of w and the first element of <code>b</code> are used to predict the first target variable i.e. yield of apples, and similarly the second for oranges.\n"
   ]
  },
  {
   "cell_type": "code",
   "execution_count": 5,
   "metadata": {},
   "outputs": [
    {
     "name": "stdout",
     "output_type": "stream",
     "text": [
      "tensor([[-1.8199, -0.3164, -0.6350],\n",
      "        [ 0.6504, -0.1634,  0.4168]], requires_grad=True)\n",
      "tensor([-0.2538, -0.0613], requires_grad=True)\n"
     ]
    }
   ],
   "source": [
    "# Weights and biases\n",
    "w = torch.randn(2, 3, requires_grad=True)\n",
    "b = torch.randn(2, requires_grad=True)\n",
    "print(w)\n",
    "print(b)"
   ]
  },
  {
   "cell_type": "markdown",
   "metadata": {},
   "source": [
    "<code>torch.randn</code> creates a tensor with the given shape, with elements picked randomly from a normal distribution with mean 0 and standard deviation 1.\n",
    "\n",
    "Our **model** is simply a function that performs a matrix multiplication of the inputs and the weights <code>w</code> (transposed) and adds the bias <code>b</code> (replicated for each observation).\n",
    "\n",
    "![Equation1](./Images/3.png \"Equation3\")\n",
    "\n",
    "We can define the model as follows:\n"
   ]
  },
  {
   "cell_type": "code",
   "execution_count": 6,
   "metadata": {},
   "outputs": [],
   "source": [
    "def model(x):\n",
    "    return x @ w.t() + b"
   ]
  },
  {
   "cell_type": "markdown",
   "metadata": {},
   "source": [
    "<code>@</code> represents matrix multiplication in PyTorch, and the <code>.t</code> method returns the transpose of a tensor.\n",
    "\n",
    "The matrix obtained by passing the input data into the model is a set of predictions for the target variables."
   ]
  },
  {
   "cell_type": "code",
   "execution_count": 7,
   "metadata": {},
   "outputs": [
    {
     "name": "stdout",
     "output_type": "stream",
     "text": [
      "tensor([[-181.6105,   54.3942],\n",
      "        [-234.3481,   71.4237],\n",
      "        [-237.8113,   58.8071],\n",
      "        [-222.9853,   74.6742],\n",
      "        [-200.6508,   58.3099]], grad_fn=<AddBackward0>)\n"
     ]
    }
   ],
   "source": [
    "# Generate predictions\n",
    "preds = model(inputs)\n",
    "print(preds)"
   ]
  },
  {
   "cell_type": "markdown",
   "metadata": {},
   "source": [
    "Let's compare the predictions of our model with the actual targets."
   ]
  },
  {
   "cell_type": "code",
   "execution_count": 8,
   "metadata": {},
   "outputs": [
    {
     "name": "stdout",
     "output_type": "stream",
     "text": [
      "tensor([[ 56.,  70.],\n",
      "        [ 81., 101.],\n",
      "        [119., 133.],\n",
      "        [ 22.,  37.],\n",
      "        [103., 119.]])\n"
     ]
    }
   ],
   "source": [
    "# Compare with targets\n",
    "print(targets)"
   ]
  },
  {
   "cell_type": "markdown",
   "metadata": {},
   "source": [
    "You can see that there's a huge difference between the predictions of our model, and the actual values of the target variables. Obviously, this is because we've initialized our model with random weights and biases, and we can't expect it to *just work*."
   ]
  },
  {
   "cell_type": "markdown",
   "metadata": {},
   "source": [
    "### Loss function\n",
    "Before we improve our model, we need a way to evaluate how well our model is performing. We can compare the model's predictions with the actual targets, using the following method:\n",
    "\n",
    "* Calculate the difference between the two matrices (preds and targets).\n",
    "* Square all elements of the difference matrix to remove negative values.\n",
    "* Calculate the average of the elements in the resulting matrix.\n",
    "\n",
    "The result is a single number, known as the **mean squared error** (MSE)."
   ]
  },
  {
   "cell_type": "code",
   "execution_count": 9,
   "metadata": {},
   "outputs": [],
   "source": [
    "# Mean Squared Loss\n",
    "def mse(t1, t2):\n",
    "    diff = t1 - t2\n",
    "    return torch.sum(diff * diff) / diff.numel()"
   ]
  },
  {
   "cell_type": "markdown",
   "metadata": {},
   "source": [
    "<code>torch.sum</code> returns the sum of all the elements in a tensor, and the <code>.numel</code> method returns the number of elements in a tensor. Let's compute the mean squared error for the current predictions of our model."
   ]
  },
  {
   "cell_type": "code",
   "execution_count": 10,
   "metadata": {},
   "outputs": [
    {
     "name": "stdout",
     "output_type": "stream",
     "text": [
      "tensor(44716.4648, grad_fn=<DivBackward0>)\n"
     ]
    }
   ],
   "source": [
    "# Compute loss\n",
    "loss = mse(preds, targets)\n",
    "print(loss)"
   ]
  },
  {
   "cell_type": "markdown",
   "metadata": {},
   "source": [
    "Here’s how we can interpret the result: *On average, each element in the prediction differs from the actual target by about 145 (square root of the loss 20834)*. And that’s pretty bad, considering the numbers we are trying to predict are themselves in the range 50–200. Also, the result is called the loss, because it indicates how bad the model is at predicting the target variables. Lower the loss, better the model."
   ]
  },
  {
   "cell_type": "code",
   "execution_count": 11,
   "metadata": {},
   "outputs": [],
   "source": [
    "# Compute gradients\n",
    "loss.backward()"
   ]
  },
  {
   "cell_type": "markdown",
   "metadata": {},
   "source": [
    "### Compute gradients\n",
    "With PyTorch, we can automatically compute the gradient or derivative of the loss w.r.t. to the weights and biases, because they have <code>requires_grad</code> set to <code>True</code>."
   ]
  },
  {
   "cell_type": "code",
   "execution_count": 12,
   "metadata": {},
   "outputs": [
    {
     "name": "stdout",
     "output_type": "stream",
     "text": [
      "tensor([[-1.8199, -0.3164, -0.6350],\n",
      "        [ 0.6504, -0.1634,  0.4168]], requires_grad=True)\n",
      "tensor([[-24605.0488, -26233.6211, -16282.9199],\n",
      "        [ -2126.0591,  -3559.2812,  -1944.2960]])\n"
     ]
    }
   ],
   "source": [
    "# Gradients for the weights\n",
    "print(w)\n",
    "print(w.grad)"
   ]
  },
  {
   "cell_type": "markdown",
   "metadata": {},
   "source": [
    "The gradients are stored in the <code>.grad</code> property of the respective tensors. Note that the derivative of the loss w.r.t. the weights matrix is itself a matrix, with the same dimensions."
   ]
  },
  {
   "cell_type": "code",
   "execution_count": 13,
   "metadata": {},
   "outputs": [
    {
     "name": "stdout",
     "output_type": "stream",
     "text": [
      "tensor([-0.2538, -0.0613], requires_grad=True)\n",
      "tensor([-291.6812,  -28.4782])\n"
     ]
    }
   ],
   "source": [
    "print(b)\n",
    "print(b.grad)"
   ]
  },
  {
   "cell_type": "markdown",
   "metadata": {},
   "source": [
    "The loss is a quadratic function of our weights and biases, and our objective is to find the set of weights where the loss is the lowest. If we plot a graph of the loss w.r.t any individual weight or bias element, it will look like the figure shown below. A key insight from calculus is that the gradient indicates the rate of change of the loss, or the slope of the loss function w.r.t. the weights and biases.\n",
    "\n",
    "If a gradient element is **positive**:\n",
    "\n",
    "* **increasing** the element's value slightly will **increase** the loss.\n",
    "* **decreasing** the element's value slightly will **decrease** the loss.\n",
    "\n",
    "![Positive](./Images/4.png \"Positive\")\n",
    "\n",
    "If a gradient element is **negative**:\n",
    "\n",
    "* **increasing** the element's value slightly will **decrease** the loss.\n",
    "* **decreasing** the element's value slightly will **increase** the loss.\n",
    "\n",
    "![Negative](./Images/5.png \"Negative\")\n",
    "\n",
    "The increase or decrease in loss by changing a weight element is proportional to the value of the gradient of the loss w.r.t. that element. This forms the basis for the optimization algorithm that we'll use to improve our model.\n",
    "\n"
   ]
  },
  {
   "cell_type": "markdown",
   "metadata": {},
   "source": [
    "Before we proceed, we reset the gradients to zero by calling <code>.zero_()</code> method. We need to do this, because PyTorch accumulates, gradients i.e. the next time we call <code>.backward</code> on the loss, the new gradient values will get added to the existing gradient values, which may lead to unexpected results."
   ]
  },
  {
   "cell_type": "code",
   "execution_count": 14,
   "metadata": {},
   "outputs": [
    {
     "name": "stdout",
     "output_type": "stream",
     "text": [
      "tensor([[0., 0., 0.],\n",
      "        [0., 0., 0.]])\n",
      "tensor([0., 0.])\n"
     ]
    }
   ],
   "source": [
    "w.grad.zero_()\n",
    "b.grad.zero_()\n",
    "print(w.grad)\n",
    "print(b.grad)"
   ]
  },
  {
   "cell_type": "markdown",
   "metadata": {},
   "source": [
    "### Adjust weights and biases using gradient descent\n",
    "We'll reduce the loss and improve our model using the gradient descent optimization algorithm, which has the following steps:\n",
    "\n",
    "1. Generate predictions\n",
    "2. Calculate the loss\n",
    "3. Compute gradients w.r.t the weights and biases\n",
    "4. Adjust the weights by subtracting a small quantity proportional to the gradient\n",
    "5. Reset the gradients to zero\n",
    "\n",
    "Let's implement the above step by step.\n",
    "\n"
   ]
  },
  {
   "cell_type": "code",
   "execution_count": 15,
   "metadata": {},
   "outputs": [
    {
     "name": "stdout",
     "output_type": "stream",
     "text": [
      "tensor([[-181.6105,   54.3942],\n",
      "        [-234.3481,   71.4237],\n",
      "        [-237.8113,   58.8071],\n",
      "        [-222.9853,   74.6742],\n",
      "        [-200.6508,   58.3099]], grad_fn=<AddBackward0>)\n"
     ]
    }
   ],
   "source": [
    "preds = model(inputs)\n",
    "print(preds)"
   ]
  },
  {
   "cell_type": "markdown",
   "metadata": {},
   "source": [
    "Note that the predictions are same as before, since we haven't made any changes to our model. The same holds true for the loss and gradients."
   ]
  },
  {
   "cell_type": "code",
   "execution_count": 16,
   "metadata": {},
   "outputs": [
    {
     "name": "stdout",
     "output_type": "stream",
     "text": [
      "tensor(44716.4648, grad_fn=<DivBackward0>)\n"
     ]
    }
   ],
   "source": [
    "loss = mse(preds, targets)\n",
    "print(loss)"
   ]
  },
  {
   "cell_type": "code",
   "execution_count": 17,
   "metadata": {},
   "outputs": [
    {
     "name": "stdout",
     "output_type": "stream",
     "text": [
      "tensor([[-24605.0488, -26233.6211, -16282.9199],\n",
      "        [ -2126.0591,  -3559.2812,  -1944.2960]])\n",
      "tensor([-291.6812,  -28.4782])\n"
     ]
    }
   ],
   "source": [
    "loss.backward()\n",
    "print(w.grad)\n",
    "print(b.grad)"
   ]
  },
  {
   "cell_type": "markdown",
   "metadata": {},
   "source": [
    "Finally, we update the weights and biases using the gradients computed above.\n",
    "\n"
   ]
  },
  {
   "cell_type": "code",
   "execution_count": 18,
   "metadata": {},
   "outputs": [],
   "source": [
    "# Adjust weights & Reset gradients\n",
    "with torch.no_grad():\n",
    "    w -= w.grad *1e-5\n",
    "    b -= b.grad *1e-5\n",
    "    w.grad.zero_()\n",
    "    b.grad.zero_()"
   ]
  },
  {
   "cell_type": "markdown",
   "metadata": {},
   "source": [
    "A few things to note above:\n",
    "\n",
    "* We use <code>torch.no_grad</code> to indicate to PyTorch that we shouldn't track, calculate or modify gradients while updating the weights and biases. \n",
    "* We multiply the gradients with a really small number (<code>10^-5</code> in this case), to ensure that we don't modify the weights by a really large amount, since we only want to take a small step in the downhill direction of the gradient. This number is called the learning rate of the algorithm. \n",
    "* After we have updated the weights, we reset the gradients back to zero, to avoid affecting any future computations.\n",
    "\n",
    "Let's take a look at the new weights and biases."
   ]
  },
  {
   "cell_type": "code",
   "execution_count": 19,
   "metadata": {},
   "outputs": [
    {
     "name": "stdout",
     "output_type": "stream",
     "text": [
      "tensor([[-1.5739, -0.0540, -0.4722],\n",
      "        [ 0.6716, -0.1278,  0.4363]], requires_grad=True)\n",
      "tensor([-0.2508, -0.0610], requires_grad=True)\n"
     ]
    }
   ],
   "source": [
    "print(w)\n",
    "print(b)"
   ]
  },
  {
   "cell_type": "markdown",
   "metadata": {},
   "source": [
    "With the new weights and biases, the model should have lower loss."
   ]
  },
  {
   "cell_type": "code",
   "execution_count": 20,
   "metadata": {},
   "outputs": [
    {
     "name": "stdout",
     "output_type": "stream",
     "text": [
      "tensor(30332.4590, grad_fn=<DivBackward0>)\n"
     ]
    }
   ],
   "source": [
    "# Calculate loss\n",
    "preds = model(inputs)\n",
    "loss = mse(preds, targets)\n",
    "print(loss)"
   ]
  },
  {
   "cell_type": "markdown",
   "metadata": {},
   "source": [
    "We have already achieved a significant reduction in the loss, simply by adjusting the weights and biases slightly using gradient descent."
   ]
  },
  {
   "cell_type": "markdown",
   "metadata": {},
   "source": [
    "### Train for multiple epochs\n",
    "To reduce the loss further, we can repeat the process of adjusting the weights and biases using the gradients multiple times. Each iteration is called an epoch. Let's train the model for 100 epochs."
   ]
  },
  {
   "cell_type": "code",
   "execution_count": 21,
   "metadata": {},
   "outputs": [],
   "source": [
    "for i in range(300):\n",
    "    preds = model(inputs)\n",
    "    loss = mse(preds, targets)\n",
    "    loss.backward()\n",
    "    with torch.no_grad():\n",
    "        w -= w.grad * 1e-5\n",
    "        b -= b.grad * 1e-5\n",
    "        w.grad.zero_()\n",
    "        b.grad.zero_()"
   ]
  },
  {
   "cell_type": "markdown",
   "metadata": {},
   "source": [
    "Once again, let's verify that the loss is now lower:"
   ]
  },
  {
   "cell_type": "code",
   "execution_count": 22,
   "metadata": {},
   "outputs": [
    {
     "name": "stdout",
     "output_type": "stream",
     "text": [
      "tensor(22.6262, grad_fn=<DivBackward0>)\n"
     ]
    }
   ],
   "source": [
    "# Calculate loss\n",
    "preds = model(inputs)\n",
    "loss = mse(preds, targets)\n",
    "print(loss)"
   ]
  },
  {
   "cell_type": "markdown",
   "metadata": {},
   "source": [
    "As you can see, the loss is now much lower than what we started out with. Let's look at the model's predictions and compare them with the targets."
   ]
  },
  {
   "cell_type": "code",
   "execution_count": 23,
   "metadata": {},
   "outputs": [
    {
     "data": {
      "text/plain": [
       "tensor([[ 57.1763,  72.0968],\n",
       "        [ 79.5908, 100.3065],\n",
       "        [124.6241, 130.9111],\n",
       "        [ 21.1122,  47.3118],\n",
       "        [ 97.3047, 112.4836]], grad_fn=<AddBackward0>)"
      ]
     },
     "execution_count": 23,
     "metadata": {},
     "output_type": "execute_result"
    }
   ],
   "source": [
    "preds"
   ]
  },
  {
   "cell_type": "code",
   "execution_count": 24,
   "metadata": {},
   "outputs": [
    {
     "data": {
      "text/plain": [
       "tensor([[ 56.,  70.],\n",
       "        [ 81., 101.],\n",
       "        [119., 133.],\n",
       "        [ 22.,  37.],\n",
       "        [103., 119.]])"
      ]
     },
     "execution_count": 24,
     "metadata": {},
     "output_type": "execute_result"
    }
   ],
   "source": [
    "targets"
   ]
  },
  {
   "cell_type": "markdown",
   "metadata": {},
   "source": [
    "## Linear regression using PyTorch built-ins\n",
    "\n",
    "The model and training process above were implemented using basic matrix operations. But since this such a common pattern , PyTorch has several built-in functions and classes to make it easy to create and train models.\n",
    "\n",
    "Let's begin by importing the <code>torch.nn</code> package from PyTorch, which contains utility classes for building neural networks.\n",
    "\n"
   ]
  },
  {
   "cell_type": "code",
   "execution_count": 25,
   "metadata": {},
   "outputs": [],
   "source": [
    "import torch.nn as nn"
   ]
  },
  {
   "cell_type": "markdown",
   "metadata": {},
   "source": [
    "As before, we represent the inputs and targets and matrices."
   ]
  },
  {
   "cell_type": "code",
   "execution_count": 44,
   "metadata": {},
   "outputs": [],
   "source": [
    "inputs = np.array([[73, 67, 43], [91, 88, 64], [87, 134, 58],\n",
    "                   [102, 43, 37], [69, 96, 70], [73, 67, 43], \n",
    "                   [91, 88, 64], [87, 134, 58], [102, 43, 37], \n",
    "                   [69, 96, 70], [73, 67, 43], [91, 88, 64], \n",
    "                   [87, 134, 58], [102, 43, 37], [69, 96, 70]], \n",
    "                  dtype='float32')\n",
    "\n",
    "targets = np.array([[56, 70], [81, 101], [119, 133],\n",
    "                   [22, 37], [103, 119], [56, 70], \n",
    "                   [81, 101], [119, 133], [22, 37], \n",
    "                   [103, 119], [56, 70], [81, 101], \n",
    "                   [119, 133], [22, 37], [103, 119]], \n",
    "                   dtype='float32')\n",
    "\n",
    "inputs = torch.from_numpy(inputs)\n",
    "targets = torch.from_numpy(targets)"
   ]
  },
  {
   "cell_type": "markdown",
   "metadata": {},
   "source": [
    "We are using 15 training examples this time, to illustrate how to work with large datasets in small batches."
   ]
  },
  {
   "cell_type": "markdown",
   "metadata": {},
   "source": [
    "### Dataset and DataLoader\n",
    "We'll create a <code>TensorDataset</code>, which allows access to rows from <code>inputs</code> and <code>targets</code> as tuples, and provides standard APIs for working with many different types of datasets in PyTorch."
   ]
  },
  {
   "cell_type": "code",
   "execution_count": 45,
   "metadata": {},
   "outputs": [],
   "source": [
    "from torch.utils.data import TensorDataset"
   ]
  },
  {
   "cell_type": "code",
   "execution_count": 46,
   "metadata": {},
   "outputs": [
    {
     "data": {
      "text/plain": [
       "(tensor([[ 73.,  67.,  43.],\n",
       "         [ 91.,  88.,  64.],\n",
       "         [ 87., 134.,  58.]]),\n",
       " tensor([[ 56.,  70.],\n",
       "         [ 81., 101.],\n",
       "         [119., 133.]]))"
      ]
     },
     "execution_count": 46,
     "metadata": {},
     "output_type": "execute_result"
    }
   ],
   "source": [
    "# Define dataset\n",
    "train_ds = TensorDataset(inputs, targets)\n",
    "train_ds[0:3]"
   ]
  },
  {
   "cell_type": "markdown",
   "metadata": {},
   "source": [
    "The <code>TensorDataset</code> allows us to access a small section of the training data using the array indexing notation (<code>[0:3]</code> in the above code). It returns a tuple (or pair), in which the first element contains the input variables for the selected rows, and the second contains the targets."
   ]
  },
  {
   "cell_type": "markdown",
   "metadata": {},
   "source": [
    "We'll also create a <code>DataLoader</code>, which can split the data into batches of a predefined size while training. It also provides other utilities like shuffling and random sampling of the data."
   ]
  },
  {
   "cell_type": "code",
   "execution_count": 47,
   "metadata": {},
   "outputs": [],
   "source": [
    "from torch.utils.data import DataLoader"
   ]
  },
  {
   "cell_type": "code",
   "execution_count": 48,
   "metadata": {},
   "outputs": [],
   "source": [
    "# Define data loader\n",
    "batch_size = 5\n",
    "train_dl = DataLoader(train_ds, batch_size, shuffle = True)"
   ]
  },
  {
   "cell_type": "markdown",
   "metadata": {},
   "source": [
    "The data loader is typically used in a <code>for-in</code> loop. Let's look at an example."
   ]
  },
  {
   "cell_type": "code",
   "execution_count": 49,
   "metadata": {},
   "outputs": [
    {
     "name": "stdout",
     "output_type": "stream",
     "text": [
      "tensor([[ 87., 134.,  58.],\n",
      "        [ 87., 134.,  58.],\n",
      "        [ 73.,  67.,  43.],\n",
      "        [ 87., 134.,  58.],\n",
      "        [ 91.,  88.,  64.]])\n",
      "tensor([[119., 133.],\n",
      "        [119., 133.],\n",
      "        [ 56.,  70.],\n",
      "        [119., 133.],\n",
      "        [ 81., 101.]])\n"
     ]
    }
   ],
   "source": [
    "for xb, yb in train_dl:\n",
    "    print(xb)\n",
    "    print(yb)\n",
    "    break"
   ]
  },
  {
   "cell_type": "markdown",
   "metadata": {},
   "source": [
    "In each iteration, the data loader returns one batch of data, with the given batch size. If <code>shuffle</code> is set to <code>True</code>, it shuffles the training data before creating batches. Shuffling helps randomize the input to the optimization algorithm, which can lead to faster reduction in the loss."
   ]
  },
  {
   "cell_type": "markdown",
   "metadata": {},
   "source": [
    "### nn.Linear\n",
    "Instead of initializing the weights & biases manually, we can define the model using the <code>nn.Linear</code> class from PyTorch, which does it automatically.\n",
    "\n"
   ]
  },
  {
   "cell_type": "code",
   "execution_count": 50,
   "metadata": {},
   "outputs": [
    {
     "name": "stdout",
     "output_type": "stream",
     "text": [
      "Parameter containing:\n",
      "tensor([[-0.3747,  0.1607,  0.4104],\n",
      "        [ 0.5118, -0.1949, -0.2882]], requires_grad=True)\n",
      "Parameter containing:\n",
      "tensor([-0.4002, -0.1280], requires_grad=True)\n"
     ]
    }
   ],
   "source": [
    "model = nn.Linear(3, 2)\n",
    "print(model.weight)\n",
    "print(model.bias)"
   ]
  },
  {
   "cell_type": "markdown",
   "metadata": {},
   "source": [
    "PyTorch models also have a helpful <code>.parameters</code> method, which returns a list containing all the weights and bias matrices present in the model. For our linear regression model, we have one weight matrix and one bias matrix."
   ]
  },
  {
   "cell_type": "code",
   "execution_count": 51,
   "metadata": {},
   "outputs": [
    {
     "data": {
      "text/plain": [
       "[Parameter containing:\n",
       " tensor([[-0.3747,  0.1607,  0.4104],\n",
       "         [ 0.5118, -0.1949, -0.2882]], requires_grad=True),\n",
       " Parameter containing:\n",
       " tensor([-0.4002, -0.1280], requires_grad=True)]"
      ]
     },
     "execution_count": 51,
     "metadata": {},
     "output_type": "execute_result"
    }
   ],
   "source": [
    "# Parameters\n",
    "list(model.parameters())"
   ]
  },
  {
   "cell_type": "markdown",
   "metadata": {},
   "source": [
    "We can use the model to generate predictions in the exact same way as before:"
   ]
  },
  {
   "cell_type": "code",
   "execution_count": 52,
   "metadata": {},
   "outputs": [
    {
     "data": {
      "text/plain": [
       "tensor([[  0.6596,  11.7803],\n",
       "        [  5.9076,  10.8474],\n",
       "        [ 12.3380,   1.5641],\n",
       "        [-16.5274,  33.0277],\n",
       "        [ 17.8998,  -3.6993],\n",
       "        [  0.6596,  11.7803],\n",
       "        [  5.9076,  10.8474],\n",
       "        [ 12.3380,   1.5641],\n",
       "        [-16.5274,  33.0277],\n",
       "        [ 17.8998,  -3.6993],\n",
       "        [  0.6596,  11.7803],\n",
       "        [  5.9076,  10.8474],\n",
       "        [ 12.3380,   1.5641],\n",
       "        [-16.5274,  33.0277],\n",
       "        [ 17.8998,  -3.6993]], grad_fn=<AddmmBackward>)"
      ]
     },
     "execution_count": 52,
     "metadata": {},
     "output_type": "execute_result"
    }
   ],
   "source": [
    "preds = model(inputs)\n",
    "preds"
   ]
  },
  {
   "cell_type": "markdown",
   "metadata": {},
   "source": [
    "### Loss Function\n",
    "Instead of defining a loss function manually, we can use the built-in loss function <code>mse_loss</code>."
   ]
  },
  {
   "cell_type": "code",
   "execution_count": 53,
   "metadata": {},
   "outputs": [],
   "source": [
    "# import nn.functional\n",
    "import torch.nn.functional as F"
   ]
  },
  {
   "cell_type": "markdown",
   "metadata": {},
   "source": [
    "The <code>nn.functional</code> package contains many useful loss functions and several other utilities."
   ]
  },
  {
   "cell_type": "code",
   "execution_count": 54,
   "metadata": {},
   "outputs": [],
   "source": [
    "loss_fn = F.mse_loss"
   ]
  },
  {
   "cell_type": "markdown",
   "metadata": {},
   "source": [
    "Let's compute the loss for the current predictions of our model."
   ]
  },
  {
   "cell_type": "code",
   "execution_count": 55,
   "metadata": {},
   "outputs": [
    {
     "name": "stdout",
     "output_type": "stream",
     "text": [
      "tensor(7266.7939, grad_fn=<MseLossBackward>)\n"
     ]
    }
   ],
   "source": [
    "loss = loss_fn(model(inputs), targets)\n",
    "print(loss)"
   ]
  },
  {
   "cell_type": "markdown",
   "metadata": {},
   "source": [
    "### Optimizer\n",
    "Instead of manually manipulating the model's weights & biases using gradients, we can use the optimizer <code>optim.SGD</code>. SGD stands for <code>stochastic gradient descent</code>. It is called <code>stochastic</code> because samples are selected in batches (often with random shuffling) instead of as a single group."
   ]
  },
  {
   "cell_type": "code",
   "execution_count": 56,
   "metadata": {},
   "outputs": [],
   "source": [
    "opt = torch.optim.SGD(model.parameters(), lr = 1e-5)"
   ]
  },
  {
   "cell_type": "markdown",
   "metadata": {},
   "source": [
    "Note that <code>model.parameters()</code> is passed as an argument to <code>optim.SGD</code>, so that the optimizer knows which matrices should be modified during the update step. Also, we can specify a learning rate which controls the amount by which the parameters are modified."
   ]
  },
  {
   "cell_type": "markdown",
   "metadata": {},
   "source": [
    "### Train the model\n",
    "We are now ready to train the model. We'll follow the exact same process to implement gradient descent:\n",
    "\n",
    "1. Generate predictions\n",
    "2. Calculate the loss\n",
    "3. Compute gradients w.r.t the weights and biases\n",
    "4. Adjust the weights by subtracting a small quantity proportional to the gradient\n",
    "5. Reset the gradients to zero\n",
    "\n",
    "The only change is that we'll work batches of data, instead of processing the entire training data in every iteration. Let's define a utility function <code>fit</code> which trains the model for a given number of epochs."
   ]
  },
  {
   "cell_type": "code",
   "execution_count": 57,
   "metadata": {},
   "outputs": [],
   "source": [
    "# Utility function to train the model\n",
    "def fit(num_epochs, model, loss_fn, opt):\n",
    "    '''\n",
    "    fit model functions\n",
    "    '''\n",
    "    for epoch in range(num_epochs):\n",
    "        #Train with batches of data\n",
    "        for xb, yb in train_dl:\n",
    "            \n",
    "            #1. Generaate predictions\n",
    "            pred = model(xb)\n",
    "            \n",
    "            #2. Calculate loss\n",
    "            loss = loss_fn(pred, yb)\n",
    "            \n",
    "            #3. Compute gradients\n",
    "            loss.backward()\n",
    "            \n",
    "            #4. Adjust/Update the weights using gradients\n",
    "            opt.step()\n",
    "            \n",
    "            #5. Reset the gradients\n",
    "            opt.zero_grad()\n",
    "            \n",
    "        #Print progress\n",
    "        if (epoch+1) % 10 == 0:\n",
    "            print('Epoch [{}/{}], Loss: {:.4f}'.format(epoch+1, num_epochs, loss.item()))"
   ]
  },
  {
   "cell_type": "markdown",
   "metadata": {},
   "source": [
    "Some things to note above:\n",
    "\n",
    "* We use the data loader defined earlier to get batches of data for every iteration.\n",
    "\n",
    "* Instead of updating parameters (weights and biases) manually, we use <code>opt.step</code> to perform the update, and <code>opt.zero_grad</code> to reset the gradients to zero.\n",
    "\n",
    "* We've also added a log statement which prints the loss from the last batch of data for every 10th epoch, to track the progress of training. <code>loss.item</code> returns the actual value stored in the loss tensor.\n",
    "\n",
    "Let's train the model for 100 epochs.\n",
    "\n"
   ]
  },
  {
   "cell_type": "code",
   "execution_count": 58,
   "metadata": {},
   "outputs": [
    {
     "name": "stdout",
     "output_type": "stream",
     "text": [
      "Epoch [10/300], Loss: 480.9478\n",
      "Epoch [20/300], Loss: 348.4428\n",
      "Epoch [30/300], Loss: 111.8379\n",
      "Epoch [40/300], Loss: 216.1943\n",
      "Epoch [50/300], Loss: 176.2247\n",
      "Epoch [60/300], Loss: 92.3112\n",
      "Epoch [70/300], Loss: 64.1524\n",
      "Epoch [80/300], Loss: 67.2938\n",
      "Epoch [90/300], Loss: 26.2885\n",
      "Epoch [100/300], Loss: 49.2348\n",
      "Epoch [110/300], Loss: 41.2469\n",
      "Epoch [120/300], Loss: 23.8804\n",
      "Epoch [130/300], Loss: 37.1890\n",
      "Epoch [140/300], Loss: 21.2262\n",
      "Epoch [150/300], Loss: 26.9534\n",
      "Epoch [160/300], Loss: 16.4480\n",
      "Epoch [170/300], Loss: 15.2440\n",
      "Epoch [180/300], Loss: 21.3798\n",
      "Epoch [190/300], Loss: 14.2732\n",
      "Epoch [200/300], Loss: 21.2338\n",
      "Epoch [210/300], Loss: 4.4456\n",
      "Epoch [220/300], Loss: 15.9523\n",
      "Epoch [230/300], Loss: 7.8090\n",
      "Epoch [240/300], Loss: 9.4623\n",
      "Epoch [250/300], Loss: 10.4808\n",
      "Epoch [260/300], Loss: 13.1041\n",
      "Epoch [270/300], Loss: 6.3254\n",
      "Epoch [280/300], Loss: 17.6521\n",
      "Epoch [290/300], Loss: 10.9339\n",
      "Epoch [300/300], Loss: 9.8862\n"
     ]
    }
   ],
   "source": [
    "fit(300, model, loss_fn, opt)"
   ]
  },
  {
   "cell_type": "markdown",
   "metadata": {},
   "source": [
    "Let's generate predictions using our model and verify that they're close to our targets."
   ]
  },
  {
   "cell_type": "code",
   "execution_count": 59,
   "metadata": {},
   "outputs": [
    {
     "data": {
      "text/plain": [
       "tensor([[ 57.1159,  70.5643],\n",
       "        [ 82.2156,  97.9476],\n",
       "        [118.7582, 138.2696],\n",
       "        [ 21.1821,  38.7057],\n",
       "        [101.7977, 113.4236],\n",
       "        [ 57.1159,  70.5643],\n",
       "        [ 82.2156,  97.9476],\n",
       "        [118.7582, 138.2696],\n",
       "        [ 21.1821,  38.7057],\n",
       "        [101.7977, 113.4236],\n",
       "        [ 57.1159,  70.5643],\n",
       "        [ 82.2156,  97.9476],\n",
       "        [118.7582, 138.2696],\n",
       "        [ 21.1821,  38.7057],\n",
       "        [101.7977, 113.4236]], grad_fn=<AddmmBackward>)"
      ]
     },
     "execution_count": 59,
     "metadata": {},
     "output_type": "execute_result"
    }
   ],
   "source": [
    "preds = model(inputs)\n",
    "preds"
   ]
  },
  {
   "cell_type": "code",
   "execution_count": 60,
   "metadata": {},
   "outputs": [
    {
     "data": {
      "text/plain": [
       "tensor([[ 56.,  70.],\n",
       "        [ 81., 101.],\n",
       "        [119., 133.],\n",
       "        [ 22.,  37.],\n",
       "        [103., 119.],\n",
       "        [ 56.,  70.],\n",
       "        [ 81., 101.],\n",
       "        [119., 133.],\n",
       "        [ 22.,  37.],\n",
       "        [103., 119.],\n",
       "        [ 56.,  70.],\n",
       "        [ 81., 101.],\n",
       "        [119., 133.],\n",
       "        [ 22.,  37.],\n",
       "        [103., 119.]])"
      ]
     },
     "execution_count": 60,
     "metadata": {},
     "output_type": "execute_result"
    }
   ],
   "source": [
    "targets"
   ]
  },
  {
   "cell_type": "markdown",
   "metadata": {},
   "source": [
    "Indeed, the predictions are quite close to our targets, and now we have a fairly good model to predict crop yields for apples and oranges by looking at the average temperature, rainfall and humidity in a region."
   ]
  },
  {
   "cell_type": "markdown",
   "metadata": {},
   "source": [
    "# Further Reading\n",
    "Covered a lot of ground this this tutorial, including *linear regression* and the *gradient descent optimization* algorithm. Here are a few resources if you'd like to dig deeper into these topics:\n",
    "\n",
    "* For a more detailed explanation of derivates and gradient descent, see [these notes from a Udacity course](https://storage.googleapis.com/supplemental_media/udacityu/315142919/Gradient%20Descent.pdf).\n",
    "\n",
    "* For an animated visualization of how linear regression works, [see this post](https://hackernoon.com/visualizing-linear-regression-with-pytorch-9261f49edb09).\n",
    "\n",
    "* For a more mathematical treatment of matrix calculus, linear regression and gradient descent, you should check out [Andrew Ng's excellent course notes](https://github.com/cleor41/CS229_Notes/blob/master/lectures/cs229-notes1.pdf) from CS229 at Stanford University.\n",
    "\n",
    "* To practice and test your skills, you can participate in the [Boston Housing Price Prediction](https://www.kaggle.com/c/boston-housing) competition on Kaggle, a website that hosts data science competitions.\n",
    "\n",
    "With this, we complete our discussion of linear regression in PyTorch, and we’re ready to move on to the next topic: *Logistic regression*.\n",
    "\n"
   ]
  },
  {
   "cell_type": "markdown",
   "metadata": {},
   "source": [
    "--------"
   ]
  }
 ],
 "metadata": {
  "kernelspec": {
   "display_name": "pytorch",
   "language": "python",
   "name": "pytorch"
  },
  "language_info": {
   "codemirror_mode": {
    "name": "ipython",
    "version": 3
   },
   "file_extension": ".py",
   "mimetype": "text/x-python",
   "name": "python",
   "nbconvert_exporter": "python",
   "pygments_lexer": "ipython3",
   "version": "3.6.10"
  }
 },
 "nbformat": 4,
 "nbformat_minor": 2
}
