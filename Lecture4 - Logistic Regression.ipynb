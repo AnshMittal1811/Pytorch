{
 "cells": [
  {
   "cell_type": "markdown",
   "metadata": {},
   "source": [
    "# Logistic Regression"
   ]
  },
  {
   "cell_type": "markdown",
   "metadata": {},
   "source": [
    "##### Problems with Lnear Regression"
   ]
  },
  {
   "cell_type": "code",
   "execution_count": 2,
   "metadata": {},
   "outputs": [
    {
     "data": {
      "image/png": "[encoded data removed]",
      "text/plain": [
       "<Figure size 432x288 with 1 Axes>"
      ]
     },
     "metadata": {
      "needs_background": "light"
     },
     "output_type": "display_data"
    }
   ],
   "source": [
    "import numpy as np\n",
    "import matplotlib.pyplot as plt\n",
    "\n",
    "x = [1, 5, 10, 15, 25, 50, 70, 75, 100,]\n",
    "y = [0, 0, 0, 0, 0, 1, 1, 1, 1]\n",
    "\n",
    "colors = np.random.rand(len(x))\n",
    "plt.plot(np.unique(x), np.poly1d(np.polyfit(x, y, 1))(np.unique(x)))\n",
    "plt.ylabel(\"Fever\")\n",
    "plt.xlabel(\"Temperature\")\n",
    "\n",
    "plt.scatter(x, y, c = colors, alpha = 0.5)\n",
    "plt.show()"
   ]
  },
  {
   "cell_type": "markdown",
   "metadata": {},
   "source": [
    "###### Linear Regression Problem 1\n",
    "Fever value can go negative (below 0) and positive (above 1)"
   ]
  },
  {
   "cell_type": "code",
   "execution_count": 3,
   "metadata": {},
   "outputs": [
    {
     "data": {
      "image/png": "[encoded data removed]",
      "text/plain": [
       "<Figure size 432x288 with 1 Axes>"
      ]
     },
     "metadata": {
      "needs_background": "light"
     },
     "output_type": "display_data"
    }
   ],
   "source": [
    "import numpy as np\n",
    "import matplotlib.pyplot as plt\n",
    "\n",
    "x = [1, 5, 10, 15, 25, 50, 70, 75, 300,]\n",
    "y = [0, 0, 0, 0, 0, 1, 1, 1, 1]\n",
    "\n",
    "colors = np.random.rand(len(x))\n",
    "plt.plot(np.unique(x), np.poly1d(np.polyfit(x, y, 1))(np.unique(x)))\n",
    "plt.ylabel(\"Fever\")\n",
    "plt.xlabel(\"Temperature\")\n",
    "\n",
    "plt.scatter(x, y, c = colors, alpha = 0.5)\n",
    "plt.show()"
   ]
  },
  {
   "cell_type": "markdown",
   "metadata": {},
   "source": [
    "###### Linear Regression Problem 2\n",
    "Fever points not predicted with outliers"
   ]
  },
  {
   "cell_type": "markdown",
   "metadata": {},
   "source": [
    "## Build logistic Regression Model (using CPU)"
   ]
  },
  {
   "cell_type": "code",
   "execution_count": 4,
   "metadata": {},
   "outputs": [
    {
     "name": "stdout",
     "output_type": "stream",
     "text": [
      "1.0000050000287824e-05\n",
      "11.51292546497478\n",
      "-1.0000050000287824e-05\n",
      "-11.512925464970229\n"
     ]
    }
   ],
   "source": [
    "import math\n",
    "\n",
    "print(-math.log(1 - 0.00001))\n",
    "print(-math.log(1 - 0.99999))\n",
    "\n",
    "print(math.log(0.99999))\n",
    "print(math.log(0.00001))"
   ]
  },
  {
   "cell_type": "markdown",
   "metadata": {},
   "source": [
    "### Steps\n",
    "\n",
    "<li> Step 1: Load Dataset\n",
    "<li> Step 2: Make Dataset Iterable\n",
    "<li> Step 3: Create Model Class\n",
    "<li> Step 4: Instantiable Model Class\n",
    "<li> Step 5: Instantiable Loss Class\n",
    "<li> Step 6: Instantiable Optimizer Class\n",
    "<li> Step 7: Train Model\n"
   ]
  },
  {
   "cell_type": "markdown",
   "metadata": {},
   "source": [
    "#### Step 1: Load Dataset"
   ]
  },
  {
   "cell_type": "code",
   "execution_count": 5,
   "metadata": {},
   "outputs": [],
   "source": [
    "import torch\n",
    "import torch.nn as nn\n",
    "import torchvision.transforms as transforms\n",
    "import torchvision.datasets as dsets\n",
    "from torch.autograd import Variable\n"
   ]
  },
  {
   "cell_type": "code",
   "execution_count": 6,
   "metadata": {},
   "outputs": [],
   "source": [
    "train_dataset = dsets.MNIST(root = './data',\n",
    "                            train = True,\n",
    "                            transform = transforms.ToTensor(),\n",
    "                            download = True)"
   ]
  },
  {
   "cell_type": "code",
   "execution_count": 7,
   "metadata": {},
   "outputs": [
    {
     "data": {
      "text/plain": [
       "60000"
      ]
     },
     "execution_count": 7,
     "metadata": {},
     "output_type": "execute_result"
    }
   ],
   "source": [
    "len(train_dataset)"
   ]
  },
  {
   "cell_type": "code",
   "execution_count": 8,
   "metadata": {},
   "outputs": [
    {
     "data": {
      "text/plain": [
       "(tensor([[[0.0000, 0.0000, 0.0000, 0.0000, 0.0000, 0.0000, 0.0000, 0.0000,\n",
       "           0.0000, 0.0000, 0.0000, 0.0000, 0.0000, 0.0000, 0.0000, 0.0000,\n",
       "           0.0000, 0.0000, 0.0000, 0.0000, 0.0000, 0.0000, 0.0000, 0.0000,\n",
       "           0.0000, 0.0000, 0.0000, 0.0000],\n",
       "          [0.0000, 0.0000, 0.0000, 0.0000, 0.0000, 0.0000, 0.0000, 0.0000,\n",
       "           0.0000, 0.0000, 0.0000, 0.0000, 0.0000, 0.0000, 0.0000, 0.0000,\n",
       "           0.0000, 0.0000, 0.0000, 0.0000, 0.0000, 0.0000, 0.0000, 0.0000,\n",
       "           0.0000, 0.0000, 0.0000, 0.0000],\n",
       "          [0.0000, 0.0000, 0.0000, 0.0000, 0.0000, 0.0000, 0.0000, 0.0000,\n",
       "           0.0000, 0.0000, 0.0000, 0.0000, 0.0000, 0.0000, 0.0000, 0.0000,\n",
       "           0.0000, 0.0000, 0.0000, 0.0000, 0.0000, 0.0000, 0.0000, 0.0000,\n",
       "           0.0000, 0.0000, 0.0000, 0.0000],\n",
       "          [0.0000, 0.0000, 0.0000, 0.0000, 0.0000, 0.0000, 0.0000, 0.0000,\n",
       "           0.0000, 0.0000, 0.0000, 0.0000, 0.0000, 0.0000, 0.0000, 0.0000,\n",
       "           0.0000, 0.0000, 0.0000, 0.0000, 0.0000, 0.0000, 0.0000, 0.0000,\n",
       "           0.0000, 0.0000, 0.0000, 0.0000],\n",
       "          [0.0000, 0.0000, 0.0000, 0.0000, 0.0000, 0.0000, 0.0000, 0.0000,\n",
       "           0.0000, 0.0000, 0.0000, 0.0000, 0.0000, 0.0000, 0.0000, 0.0000,\n",
       "           0.0000, 0.0000, 0.0000, 0.0000, 0.0000, 0.0000, 0.0000, 0.0000,\n",
       "           0.0000, 0.0000, 0.0000, 0.0000],\n",
       "          [0.0000, 0.0000, 0.0000, 0.0000, 0.0000, 0.0000, 0.0000, 0.0000,\n",
       "           0.0000, 0.0000, 0.0000, 0.0000, 0.0118, 0.0706, 0.0706, 0.0706,\n",
       "           0.4941, 0.5333, 0.6863, 0.1020, 0.6510, 1.0000, 0.9686, 0.4980,\n",
       "           0.0000, 0.0000, 0.0000, 0.0000],\n",
       "          [0.0000, 0.0000, 0.0000, 0.0000, 0.0000, 0.0000, 0.0000, 0.0000,\n",
       "           0.1176, 0.1412, 0.3686, 0.6039, 0.6667, 0.9922, 0.9922, 0.9922,\n",
       "           0.9922, 0.9922, 0.8824, 0.6745, 0.9922, 0.9490, 0.7647, 0.2510,\n",
       "           0.0000, 0.0000, 0.0000, 0.0000],\n",
       "          [0.0000, 0.0000, 0.0000, 0.0000, 0.0000, 0.0000, 0.0000, 0.1922,\n",
       "           0.9333, 0.9922, 0.9922, 0.9922, 0.9922, 0.9922, 0.9922, 0.9922,\n",
       "           0.9922, 0.9843, 0.3647, 0.3216, 0.3216, 0.2196, 0.1529, 0.0000,\n",
       "           0.0000, 0.0000, 0.0000, 0.0000],\n",
       "          [0.0000, 0.0000, 0.0000, 0.0000, 0.0000, 0.0000, 0.0000, 0.0706,\n",
       "           0.8588, 0.9922, 0.9922, 0.9922, 0.9922, 0.9922, 0.7765, 0.7137,\n",
       "           0.9686, 0.9451, 0.0000, 0.0000, 0.0000, 0.0000, 0.0000, 0.0000,\n",
       "           0.0000, 0.0000, 0.0000, 0.0000],\n",
       "          [0.0000, 0.0000, 0.0000, 0.0000, 0.0000, 0.0000, 0.0000, 0.0000,\n",
       "           0.3137, 0.6118, 0.4196, 0.9922, 0.9922, 0.8039, 0.0431, 0.0000,\n",
       "           0.1686, 0.6039, 0.0000, 0.0000, 0.0000, 0.0000, 0.0000, 0.0000,\n",
       "           0.0000, 0.0000, 0.0000, 0.0000],\n",
       "          [0.0000, 0.0000, 0.0000, 0.0000, 0.0000, 0.0000, 0.0000, 0.0000,\n",
       "           0.0000, 0.0549, 0.0039, 0.6039, 0.9922, 0.3529, 0.0000, 0.0000,\n",
       "           0.0000, 0.0000, 0.0000, 0.0000, 0.0000, 0.0000, 0.0000, 0.0000,\n",
       "           0.0000, 0.0000, 0.0000, 0.0000],\n",
       "          [0.0000, 0.0000, 0.0000, 0.0000, 0.0000, 0.0000, 0.0000, 0.0000,\n",
       "           0.0000, 0.0000, 0.0000, 0.5451, 0.9922, 0.7451, 0.0078, 0.0000,\n",
       "           0.0000, 0.0000, 0.0000, 0.0000, 0.0000, 0.0000, 0.0000, 0.0000,\n",
       "           0.0000, 0.0000, 0.0000, 0.0000],\n",
       "          [0.0000, 0.0000, 0.0000, 0.0000, 0.0000, 0.0000, 0.0000, 0.0000,\n",
       "           0.0000, 0.0000, 0.0000, 0.0431, 0.7451, 0.9922, 0.2745, 0.0000,\n",
       "           0.0000, 0.0000, 0.0000, 0.0000, 0.0000, 0.0000, 0.0000, 0.0000,\n",
       "           0.0000, 0.0000, 0.0000, 0.0000],\n",
       "          [0.0000, 0.0000, 0.0000, 0.0000, 0.0000, 0.0000, 0.0000, 0.0000,\n",
       "           0.0000, 0.0000, 0.0000, 0.0000, 0.1373, 0.9451, 0.8824, 0.6275,\n",
       "           0.4235, 0.0039, 0.0000, 0.0000, 0.0000, 0.0000, 0.0000, 0.0000,\n",
       "           0.0000, 0.0000, 0.0000, 0.0000],\n",
       "          [0.0000, 0.0000, 0.0000, 0.0000, 0.0000, 0.0000, 0.0000, 0.0000,\n",
       "           0.0000, 0.0000, 0.0000, 0.0000, 0.0000, 0.3176, 0.9412, 0.9922,\n",
       "           0.9922, 0.4667, 0.0980, 0.0000, 0.0000, 0.0000, 0.0000, 0.0000,\n",
       "           0.0000, 0.0000, 0.0000, 0.0000],\n",
       "          [0.0000, 0.0000, 0.0000, 0.0000, 0.0000, 0.0000, 0.0000, 0.0000,\n",
       "           0.0000, 0.0000, 0.0000, 0.0000, 0.0000, 0.0000, 0.1765, 0.7294,\n",
       "           0.9922, 0.9922, 0.5882, 0.1059, 0.0000, 0.0000, 0.0000, 0.0000,\n",
       "           0.0000, 0.0000, 0.0000, 0.0000],\n",
       "          [0.0000, 0.0000, 0.0000, 0.0000, 0.0000, 0.0000, 0.0000, 0.0000,\n",
       "           0.0000, 0.0000, 0.0000, 0.0000, 0.0000, 0.0000, 0.0000, 0.0627,\n",
       "           0.3647, 0.9882, 0.9922, 0.7333, 0.0000, 0.0000, 0.0000, 0.0000,\n",
       "           0.0000, 0.0000, 0.0000, 0.0000],\n",
       "          [0.0000, 0.0000, 0.0000, 0.0000, 0.0000, 0.0000, 0.0000, 0.0000,\n",
       "           0.0000, 0.0000, 0.0000, 0.0000, 0.0000, 0.0000, 0.0000, 0.0000,\n",
       "           0.0000, 0.9765, 0.9922, 0.9765, 0.2510, 0.0000, 0.0000, 0.0000,\n",
       "           0.0000, 0.0000, 0.0000, 0.0000],\n",
       "          [0.0000, 0.0000, 0.0000, 0.0000, 0.0000, 0.0000, 0.0000, 0.0000,\n",
       "           0.0000, 0.0000, 0.0000, 0.0000, 0.0000, 0.0000, 0.1804, 0.5098,\n",
       "           0.7176, 0.9922, 0.9922, 0.8118, 0.0078, 0.0000, 0.0000, 0.0000,\n",
       "           0.0000, 0.0000, 0.0000, 0.0000],\n",
       "          [0.0000, 0.0000, 0.0000, 0.0000, 0.0000, 0.0000, 0.0000, 0.0000,\n",
       "           0.0000, 0.0000, 0.0000, 0.0000, 0.1529, 0.5804, 0.8980, 0.9922,\n",
       "           0.9922, 0.9922, 0.9804, 0.7137, 0.0000, 0.0000, 0.0000, 0.0000,\n",
       "           0.0000, 0.0000, 0.0000, 0.0000],\n",
       "          [0.0000, 0.0000, 0.0000, 0.0000, 0.0000, 0.0000, 0.0000, 0.0000,\n",
       "           0.0000, 0.0000, 0.0941, 0.4471, 0.8667, 0.9922, 0.9922, 0.9922,\n",
       "           0.9922, 0.7882, 0.3059, 0.0000, 0.0000, 0.0000, 0.0000, 0.0000,\n",
       "           0.0000, 0.0000, 0.0000, 0.0000],\n",
       "          [0.0000, 0.0000, 0.0000, 0.0000, 0.0000, 0.0000, 0.0000, 0.0000,\n",
       "           0.0902, 0.2588, 0.8353, 0.9922, 0.9922, 0.9922, 0.9922, 0.7765,\n",
       "           0.3176, 0.0078, 0.0000, 0.0000, 0.0000, 0.0000, 0.0000, 0.0000,\n",
       "           0.0000, 0.0000, 0.0000, 0.0000],\n",
       "          [0.0000, 0.0000, 0.0000, 0.0000, 0.0000, 0.0000, 0.0706, 0.6706,\n",
       "           0.8588, 0.9922, 0.9922, 0.9922, 0.9922, 0.7647, 0.3137, 0.0353,\n",
       "           0.0000, 0.0000, 0.0000, 0.0000, 0.0000, 0.0000, 0.0000, 0.0000,\n",
       "           0.0000, 0.0000, 0.0000, 0.0000],\n",
       "          [0.0000, 0.0000, 0.0000, 0.0000, 0.2157, 0.6745, 0.8863, 0.9922,\n",
       "           0.9922, 0.9922, 0.9922, 0.9569, 0.5216, 0.0431, 0.0000, 0.0000,\n",
       "           0.0000, 0.0000, 0.0000, 0.0000, 0.0000, 0.0000, 0.0000, 0.0000,\n",
       "           0.0000, 0.0000, 0.0000, 0.0000],\n",
       "          [0.0000, 0.0000, 0.0000, 0.0000, 0.5333, 0.9922, 0.9922, 0.9922,\n",
       "           0.8314, 0.5294, 0.5176, 0.0627, 0.0000, 0.0000, 0.0000, 0.0000,\n",
       "           0.0000, 0.0000, 0.0000, 0.0000, 0.0000, 0.0000, 0.0000, 0.0000,\n",
       "           0.0000, 0.0000, 0.0000, 0.0000],\n",
       "          [0.0000, 0.0000, 0.0000, 0.0000, 0.0000, 0.0000, 0.0000, 0.0000,\n",
       "           0.0000, 0.0000, 0.0000, 0.0000, 0.0000, 0.0000, 0.0000, 0.0000,\n",
       "           0.0000, 0.0000, 0.0000, 0.0000, 0.0000, 0.0000, 0.0000, 0.0000,\n",
       "           0.0000, 0.0000, 0.0000, 0.0000],\n",
       "          [0.0000, 0.0000, 0.0000, 0.0000, 0.0000, 0.0000, 0.0000, 0.0000,\n",
       "           0.0000, 0.0000, 0.0000, 0.0000, 0.0000, 0.0000, 0.0000, 0.0000,\n",
       "           0.0000, 0.0000, 0.0000, 0.0000, 0.0000, 0.0000, 0.0000, 0.0000,\n",
       "           0.0000, 0.0000, 0.0000, 0.0000],\n",
       "          [0.0000, 0.0000, 0.0000, 0.0000, 0.0000, 0.0000, 0.0000, 0.0000,\n",
       "           0.0000, 0.0000, 0.0000, 0.0000, 0.0000, 0.0000, 0.0000, 0.0000,\n",
       "           0.0000, 0.0000, 0.0000, 0.0000, 0.0000, 0.0000, 0.0000, 0.0000,\n",
       "           0.0000, 0.0000, 0.0000, 0.0000]]]),\n",
       " 5)"
      ]
     },
     "execution_count": 8,
     "metadata": {},
     "output_type": "execute_result"
    }
   ],
   "source": [
    "train_dataset[0]"
   ]
  },
  {
   "cell_type": "code",
   "execution_count": 9,
   "metadata": {},
   "outputs": [
    {
     "data": {
      "text/plain": [
       "tuple"
      ]
     },
     "execution_count": 9,
     "metadata": {},
     "output_type": "execute_result"
    }
   ],
   "source": [
    "type(train_dataset[0])"
   ]
  },
  {
   "cell_type": "code",
   "execution_count": 10,
   "metadata": {},
   "outputs": [
    {
     "data": {
      "text/plain": [
       "torch.Size([1, 28, 28])"
      ]
     },
     "execution_count": 10,
     "metadata": {},
     "output_type": "execute_result"
    }
   ],
   "source": [
    "train_dataset[0][0].size()"
   ]
  },
  {
   "cell_type": "code",
   "execution_count": 11,
   "metadata": {},
   "outputs": [
    {
     "data": {
      "text/plain": [
       "5"
      ]
     },
     "execution_count": 11,
     "metadata": {},
     "output_type": "execute_result"
    }
   ],
   "source": [
    "train_dataset[0][1]"
   ]
  },
  {
   "cell_type": "markdown",
   "metadata": {},
   "source": [
    "##### Displaying MNIST"
   ]
  },
  {
   "cell_type": "code",
   "execution_count": 12,
   "metadata": {},
   "outputs": [],
   "source": [
    "import matplotlib.pyplot as plt\n",
    "%matplotlib inline\n",
    "import numpy as np\n"
   ]
  },
  {
   "cell_type": "code",
   "execution_count": 13,
   "metadata": {},
   "outputs": [
    {
     "data": {
      "text/plain": [
       "(1, 28, 28)"
      ]
     },
     "execution_count": 13,
     "metadata": {},
     "output_type": "execute_result"
    }
   ],
   "source": [
    "train_dataset[10][0].numpy().shape"
   ]
  },
  {
   "cell_type": "code",
   "execution_count": 14,
   "metadata": {},
   "outputs": [],
   "source": [
    "show_img = train_dataset[10][0].numpy().reshape(28, 28)"
   ]
  },
  {
   "cell_type": "code",
   "execution_count": 15,
   "metadata": {},
   "outputs": [
    {
     "data": {
      "text/plain": [
       "<matplotlib.image.AxesImage at 0x2c1490424e0>"
      ]
     },
     "execution_count": 15,
     "metadata": {},
     "output_type": "execute_result"
    },
    {
     "data": {
      "image/png": "[encoded data removed]",
      "text/plain": [
       "<Figure size 432x288 with 1 Axes>"
      ]
     },
     "metadata": {
      "needs_background": "light"
     },
     "output_type": "display_data"
    }
   ],
   "source": [
    "plt.imshow(show_img, cmap = 'gray')"
   ]
  },
  {
   "cell_type": "code",
   "execution_count": 16,
   "metadata": {},
   "outputs": [
    {
     "data": {
      "text/plain": [
       "3"
      ]
     },
     "execution_count": 16,
     "metadata": {},
     "output_type": "execute_result"
    }
   ],
   "source": [
    "train_dataset[10][1]"
   ]
  },
  {
   "cell_type": "code",
   "execution_count": 17,
   "metadata": {},
   "outputs": [],
   "source": [
    "show_img = train_dataset[10535][0].numpy().reshape(28, 28)"
   ]
  },
  {
   "cell_type": "code",
   "execution_count": 18,
   "metadata": {},
   "outputs": [
    {
     "data": {
      "text/plain": [
       "<matplotlib.image.AxesImage at 0x2c142eb82b0>"
      ]
     },
     "execution_count": 18,
     "metadata": {},
     "output_type": "execute_result"
    },
    {
     "data": {
      "image/png": "[encoded data removed]",
      "text/plain": [
       "<Figure size 432x288 with 1 Axes>"
      ]
     },
     "metadata": {
      "needs_background": "light"
     },
     "output_type": "display_data"
    }
   ],
   "source": [
    "plt.imshow(show_img, cmap = 'gray')"
   ]
  },
  {
   "cell_type": "code",
   "execution_count": 19,
   "metadata": {},
   "outputs": [
    {
     "data": {
      "text/plain": [
       "2"
      ]
     },
     "execution_count": 19,
     "metadata": {},
     "output_type": "execute_result"
    }
   ],
   "source": [
    "train_dataset[10535][1]"
   ]
  },
  {
   "cell_type": "markdown",
   "metadata": {},
   "source": [
    "##### Loading MNIST Test Dataset"
   ]
  },
  {
   "cell_type": "code",
   "execution_count": 20,
   "metadata": {},
   "outputs": [],
   "source": [
    "test_dataset = dsets.MNIST(root = './data',\n",
    "                           train = False,\n",
    "                           transform = transforms.ToTensor())"
   ]
  },
  {
   "cell_type": "code",
   "execution_count": 21,
   "metadata": {},
   "outputs": [
    {
     "data": {
      "text/plain": [
       "10000"
      ]
     },
     "execution_count": 21,
     "metadata": {},
     "output_type": "execute_result"
    }
   ],
   "source": [
    "len(test_dataset)"
   ]
  },
  {
   "cell_type": "code",
   "execution_count": 22,
   "metadata": {},
   "outputs": [
    {
     "data": {
      "text/plain": [
       "tuple"
      ]
     },
     "execution_count": 22,
     "metadata": {},
     "output_type": "execute_result"
    }
   ],
   "source": [
    "type(test_dataset[0])"
   ]
  },
  {
   "cell_type": "code",
   "execution_count": 23,
   "metadata": {},
   "outputs": [
    {
     "data": {
      "text/plain": [
       "torch.Size([1, 28, 28])"
      ]
     },
     "execution_count": 23,
     "metadata": {},
     "output_type": "execute_result"
    }
   ],
   "source": [
    "test_dataset[0][0].size()"
   ]
  },
  {
   "cell_type": "code",
   "execution_count": 24,
   "metadata": {},
   "outputs": [
    {
     "data": {
      "text/plain": [
       "<matplotlib.image.AxesImage at 0x2c142e5c2b0>"
      ]
     },
     "execution_count": 24,
     "metadata": {},
     "output_type": "execute_result"
    },
    {
     "data": {
      "image/png": "[encoded data removed]",
      "text/plain": [
       "<Figure size 432x288 with 1 Axes>"
      ]
     },
     "metadata": {
      "needs_background": "light"
     },
     "output_type": "display_data"
    }
   ],
   "source": [
    "show_img = test_dataset[0][0].numpy().reshape(28, 28)\n",
    "plt.imshow(show_img, cmap = 'gray')"
   ]
  },
  {
   "cell_type": "code",
   "execution_count": 25,
   "metadata": {},
   "outputs": [
    {
     "data": {
      "text/plain": [
       "7"
      ]
     },
     "execution_count": 25,
     "metadata": {},
     "output_type": "execute_result"
    }
   ],
   "source": [
    "test_dataset[0][1]"
   ]
  },
  {
   "cell_type": "markdown",
   "metadata": {},
   "source": [
    "#### Step 2: Make Dataset Iterable"
   ]
  },
  {
   "cell_type": "code",
   "execution_count": 26,
   "metadata": {},
   "outputs": [
    {
     "data": {
      "text/plain": [
       "60000"
      ]
     },
     "execution_count": 26,
     "metadata": {},
     "output_type": "execute_result"
    }
   ],
   "source": [
    "len(train_dataset)"
   ]
  },
  {
   "cell_type": "code",
   "execution_count": 27,
   "metadata": {},
   "outputs": [],
   "source": [
    "batch_size = 100"
   ]
  },
  {
   "cell_type": "code",
   "execution_count": 28,
   "metadata": {},
   "outputs": [],
   "source": [
    "n_iters = 3000"
   ]
  },
  {
   "cell_type": "code",
   "execution_count": 29,
   "metadata": {},
   "outputs": [
    {
     "data": {
      "text/plain": [
       "5"
      ]
     },
     "execution_count": 29,
     "metadata": {},
     "output_type": "execute_result"
    }
   ],
   "source": [
    "num_epochs = n_iters / (len(train_dataset) / batch_size)\n",
    "num_epochs = int(num_epochs)\n",
    "num_epochs"
   ]
  },
  {
   "cell_type": "markdown",
   "metadata": {},
   "source": [
    "##### Create Iterable Object: Training Dataset"
   ]
  },
  {
   "cell_type": "code",
   "execution_count": 30,
   "metadata": {},
   "outputs": [],
   "source": [
    "train_loader = torch.utils.data.DataLoader(dataset = train_dataset,\n",
    "                                           batch_size = batch_size,\n",
    "                                           shuffle = True)"
   ]
  },
  {
   "cell_type": "markdown",
   "metadata": {},
   "source": [
    "##### Check Iterability"
   ]
  },
  {
   "cell_type": "code",
   "execution_count": 31,
   "metadata": {},
   "outputs": [
    {
     "data": {
      "text/plain": [
       "True"
      ]
     },
     "execution_count": 31,
     "metadata": {},
     "output_type": "execute_result"
    }
   ],
   "source": [
    "import collections\n",
    "isinstance(train_loader, collections.Iterable)"
   ]
  },
  {
   "cell_type": "markdown",
   "metadata": {},
   "source": [
    "##### Create Iterable Object: Testing Dataset"
   ]
  },
  {
   "cell_type": "code",
   "execution_count": 32,
   "metadata": {},
   "outputs": [],
   "source": [
    "# Iterable object\n",
    "test_loader = torch.utils.data.DataLoader(dataset = test_dataset, \n",
    "                                          batch_size = batch_size,\n",
    "                                          shuffle = False)"
   ]
  },
  {
   "cell_type": "markdown",
   "metadata": {},
   "source": [
    "##### Check Iterability"
   ]
  },
  {
   "cell_type": "code",
   "execution_count": 33,
   "metadata": {},
   "outputs": [
    {
     "data": {
      "text/plain": [
       "True"
      ]
     },
     "execution_count": 33,
     "metadata": {},
     "output_type": "execute_result"
    }
   ],
   "source": [
    "import collections\n",
    "isinstance(test_loader, collections.Iterable)"
   ]
  },
  {
   "cell_type": "markdown",
   "metadata": {},
   "source": [
    "##### Main Aim: Iterate throughout Dataset"
   ]
  },
  {
   "cell_type": "code",
   "execution_count": 34,
   "metadata": {},
   "outputs": [],
   "source": [
    "img_1 = np.ones((28, 28))\n",
    "img_2 = np.ones((28, 28))\n",
    "lst = [img_1, img_2]\n"
   ]
  },
  {
   "cell_type": "code",
   "execution_count": 35,
   "metadata": {},
   "outputs": [
    {
     "name": "stdout",
     "output_type": "stream",
     "text": [
      "(28, 28)\n",
      "(28, 28)\n"
     ]
    }
   ],
   "source": [
    "# Need to iterate \n",
    "# Think of the numbers as the images\n",
    "for i in lst:\n",
    "    print(i.shape)"
   ]
  },
  {
   "cell_type": "markdown",
   "metadata": {},
   "source": [
    "#### Step 3: Building Model"
   ]
  },
  {
   "cell_type": "code",
   "execution_count": 36,
   "metadata": {},
   "outputs": [],
   "source": [
    "# Same as Linear Regression!\n",
    "# Create class\n",
    "class LogisticRegressionModel(nn.Module):\n",
    "    def __init__(self, input_size, output_size):\n",
    "        super(LogisticRegressionModel, self).__init__()\n",
    "        self.linear = nn.Linear(input_dim, output_dim)\n",
    "\n",
    "    def forward(self, x):\n",
    "        out = self.linear(x)\n",
    "        return out"
   ]
  },
  {
   "cell_type": "markdown",
   "metadata": {},
   "source": [
    "#### Step 4: Instantiate Model Class"
   ]
  },
  {
   "cell_type": "code",
   "execution_count": 37,
   "metadata": {},
   "outputs": [
    {
     "data": {
      "text/plain": [
       "torch.Size([1, 28, 28])"
      ]
     },
     "execution_count": 37,
     "metadata": {},
     "output_type": "execute_result"
    }
   ],
   "source": [
    "# Size of images\n",
    "train_dataset[0][0].size()"
   ]
  },
  {
   "cell_type": "code",
   "execution_count": 38,
   "metadata": {},
   "outputs": [],
   "source": [
    "input_dim = 28*28\n",
    "output_dim = 10"
   ]
  },
  {
   "cell_type": "code",
   "execution_count": 39,
   "metadata": {},
   "outputs": [],
   "source": [
    "model = LogisticRegressionModel(input_dim, output_dim)"
   ]
  },
  {
   "cell_type": "markdown",
   "metadata": {},
   "source": [
    "#### Step 5: Instantiate Loss Class"
   ]
  },
  {
   "cell_type": "code",
   "execution_count": 40,
   "metadata": {},
   "outputs": [],
   "source": [
    "criterion = nn.CrossEntropyLoss()"
   ]
  },
  {
   "cell_type": "markdown",
   "metadata": {},
   "source": [
    "**What happens in nn.CrossEntropyLoss()?**\n",
    "<li> Computes softmax (logistic/softmax function)\n",
    "<li> Computer Cross Entropy"
   ]
  },
  {
   "cell_type": "markdown",
   "metadata": {},
   "source": [
    "#### Step 6: Instantiate Optimizer Class"
   ]
  },
  {
   "cell_type": "code",
   "execution_count": 41,
   "metadata": {},
   "outputs": [],
   "source": [
    "learning_rate = 0.001\n",
    "optimizer = torch.optim.SGD(model.parameters(), lr = learning_rate)"
   ]
  },
  {
   "cell_type": "markdown",
   "metadata": {},
   "source": [
    "##### Parameters In-Depth"
   ]
  },
  {
   "cell_type": "code",
   "execution_count": 42,
   "metadata": {},
   "outputs": [
    {
     "name": "stdout",
     "output_type": "stream",
     "text": [
      "<generator object Module.parameters at 0x000002C142E8F6D0>\n",
      "2\n",
      "torch.Size([10, 784])\n",
      "torch.Size([10])\n"
     ]
    }
   ],
   "source": [
    "print(model.parameters())\n",
    "\n",
    "print(len(list(model.parameters())))\n",
    "\n",
    "# FC1 Parameters \n",
    "print(list(model.parameters())[0].size())\n",
    "\n",
    "# FC1 Bias Parameters \n",
    "print(list(model.parameters())[1].size())"
   ]
  },
  {
   "cell_type": "markdown",
   "metadata": {},
   "source": [
    "#### Step 7: Train Model"
   ]
  },
  {
   "cell_type": "markdown",
   "metadata": {},
   "source": [
    "Process\n",
    "1. Convert input/labels to variables\n",
    "2. Clear gradient buffets\n",
    "3. Get output given inputs\n",
    "4. Get loss\n",
    "5. Get gradients w.r.t. parameters\n",
    "6. Update parameters using gradients\n",
    "    * parameters = parameters - leaarning_rate * parameter_gradients\n",
    "7. Repeat"
   ]
  },
  {
   "cell_type": "code",
   "execution_count": 43,
   "metadata": {},
   "outputs": [
    {
     "name": "stdout",
     "output_type": "stream",
     "text": [
      "Iteration: 500, Loss: 1.8878933191299438, Accuracy: 68\n",
      "Iteration: 1000, Loss: 1.6046518087387085, Accuracy: 75\n",
      "Iteration: 1500, Loss: 1.2657744884490967, Accuracy: 78\n",
      "Iteration: 2000, Loss: 1.2260420322418213, Accuracy: 80\n",
      "Iteration: 2500, Loss: 1.1309131383895874, Accuracy: 81\n",
      "Iteration: 3000, Loss: 1.009251594543457, Accuracy: 82\n"
     ]
    }
   ],
   "source": [
    "iter = 0\n",
    "for epoch in range(num_epochs):\n",
    "    for i, (images, labels) in enumerate(train_loader):\n",
    "        # load images as Variable\n",
    "        images = Variable(images.view(-1, 28*28))\n",
    "        labels = Variable(labels)\n",
    "        \n",
    "        # Clear grad w.r.t. parameters\n",
    "        optimizer.zero_grad()\n",
    "        \n",
    "        # Forward pass to get outputs/logits\n",
    "        outputs = model(images)\n",
    "        \n",
    "        # Calculate loss: softmax --> cross entropy loss\n",
    "        loss = criterion(outputs, labels)\n",
    "        \n",
    "        #Getting grads w.r.t. parameters\n",
    "        loss.backward()\n",
    "        \n",
    "        # Updating parameters\n",
    "        optimizer.step()\n",
    "        \n",
    "        iter += 1\n",
    "        \n",
    "        if iter % 500 == 0:\n",
    "            \n",
    "            # Calculate accuracy\n",
    "            correct = 0\n",
    "            total = 0\n",
    "            \n",
    "            # Iterate through test dataset\n",
    "            for images, labels in test_loader:\n",
    "                # load images as Variable\n",
    "                images = Variable(images.view(-1, 28*28))\n",
    "                \n",
    "                # Forward pass only to get Logits/outputs\n",
    "                outputs = model(images)\n",
    "                \n",
    "                # Get predictions from the maximum value\n",
    "                _, predicted = torch.max(outputs.data, 1)\n",
    "                \n",
    "                # Total no. of labels\n",
    "                total += labels.size(0)\n",
    "                \n",
    "                # Total correct predictions\n",
    "                correct += (predicted == labels).sum()\n",
    "                \n",
    "            accuracy = 100 * correct / total\n",
    "            \n",
    "            # Print loss\n",
    "            print('Iteration: {}, Loss: {}, Accuracy: {}'.format(iter, loss.data, accuracy))"
   ]
  },
  {
   "cell_type": "markdown",
   "metadata": {},
   "source": [
    "#### Break Down Accuracy Calculation"
   ]
  },
  {
   "cell_type": "code",
   "execution_count": 45,
   "metadata": {},
   "outputs": [
    {
     "name": "stdout",
     "output_type": "stream",
     "text": [
      "OUTPUTS:\n",
      "tensor([[-2.9774e-01, -1.1801e+00, -2.8216e-01, -9.3975e-02,  2.7256e-01,\n",
      "         -4.3983e-01, -1.0860e+00,  2.9115e+00, -2.2675e-01,  8.0222e-01],\n",
      "        [ 1.2529e-01, -3.2215e-02,  1.5479e+00,  1.2117e+00, -1.4803e+00,\n",
      "          6.8863e-01,  1.1220e+00, -1.8693e+00,  4.9080e-01, -1.5525e+00],\n",
      "        [-8.8341e-01,  2.2351e+00,  2.4406e-01, -1.4016e-02, -7.7193e-01,\n",
      "         -2.4241e-01, -9.7614e-02, -1.9455e-01,  2.1224e-01, -5.0791e-01],\n",
      "        [ 2.8318e+00, -2.3838e+00, -1.8880e-01, -3.0076e-01, -9.2987e-01,\n",
      "          6.1426e-01,  1.1275e+00,  2.4816e-01, -5.8410e-01, -2.5341e-01],\n",
      "        [ 5.0579e-02, -2.1030e+00,  4.5707e-01, -5.6826e-01,  1.7512e+00,\n",
      "         -2.8956e-01,  2.0054e-01,  3.2340e-01, -7.4471e-02,  8.6997e-01],\n",
      "        [-1.3225e+00,  2.8044e+00,  2.2344e-01,  2.0327e-01, -7.7479e-01,\n",
      "         -3.1943e-01, -6.1570e-01, -6.7411e-02,  3.8018e-01, -3.7589e-01],\n",
      "        [-1.0763e+00, -1.0256e+00, -6.5609e-01,  3.2308e-01,  1.4915e+00,\n",
      "          5.4977e-01, -6.6020e-01,  9.3484e-01,  6.3186e-01,  8.8744e-01],\n",
      "        [-1.3044e+00, -5.4717e-01, -5.0491e-01, -1.6336e-01,  8.3342e-01,\n",
      "          3.1136e-01,  2.4409e-01, -1.5763e-01,  6.0810e-02,  1.0409e+00],\n",
      "        [ 4.5638e-01, -1.5156e-01,  9.7010e-01, -1.1916e+00,  4.3641e-01,\n",
      "          1.3815e-01,  7.8074e-01, -8.9125e-01, -3.7999e-02,  1.5949e-01],\n",
      "        [-4.6657e-01, -9.8475e-01, -1.1402e+00, -1.1012e+00,  1.1492e+00,\n",
      "         -8.5593e-02, -3.0389e-01,  1.7957e+00,  2.4361e-01,  1.7146e+00],\n",
      "        [ 3.4347e+00, -1.8275e+00,  6.9127e-01,  1.1620e+00, -6.6955e-01,\n",
      "          1.1854e+00, -7.8675e-01, -1.3086e+00,  8.2499e-01, -1.5591e+00],\n",
      "        [ 9.0944e-01, -4.8160e-01,  5.3144e-01, -2.9067e-02,  4.8137e-01,\n",
      "         -4.4341e-01,  3.8817e-01, -9.4532e-01,  2.9668e-01, -5.0023e-01],\n",
      "        [-8.2796e-01, -1.5069e+00, -9.4857e-01, -1.0038e+00,  1.5300e+00,\n",
      "         -2.8907e-02, -1.9493e-01,  1.2314e+00,  1.6236e-01,  2.2467e+00],\n",
      "        [ 2.9095e+00, -2.3415e+00, -2.5739e-01, -1.4226e-01, -3.4959e-01,\n",
      "          8.3763e-01, -3.0436e-01, -5.3960e-01,  5.7476e-01,  1.3305e-01],\n",
      "        [-1.3939e+00,  2.7532e+00, -5.3300e-02,  4.3870e-01, -1.0050e+00,\n",
      "         -7.8169e-02,  2.0229e-02, -4.0203e-02,  2.9868e-01, -1.4465e-01],\n",
      "        [ 4.8268e-01, -8.9202e-01,  1.8344e-01,  1.3251e+00, -3.3593e-01,\n",
      "          8.8919e-01, -5.9595e-01, -3.9618e-01,  5.3889e-01, -6.7024e-01],\n",
      "        [-9.5134e-02, -2.1849e+00,  4.5723e-02, -5.0418e-01,  1.4986e+00,\n",
      "         -4.8295e-01, -1.3703e-01,  9.5873e-01,  2.6244e-02,  1.6799e+00],\n",
      "        [ 2.9639e-01, -1.5882e+00, -4.6606e-01,  5.4500e-01, -1.5949e-01,\n",
      "         -4.0211e-01, -7.9952e-01,  2.7457e+00, -5.5181e-01,  5.1153e-01],\n",
      "        [-7.3877e-01, -5.1277e-01,  1.9889e-01,  1.1280e+00, -3.7700e-01,\n",
      "          4.2028e-01,  1.1796e+00, -8.6973e-01,  1.9383e-01, -4.6797e-01],\n",
      "        [-9.1943e-01, -1.5034e+00, -4.1346e-01, -2.0436e-01,  1.9274e+00,\n",
      "          1.0962e-01, -1.6743e-01, -5.5330e-02, -4.7280e-02,  1.2891e+00],\n",
      "        [-9.4076e-01, -4.5683e-01, -1.5299e+00,  7.7036e-03,  5.6825e-01,\n",
      "          3.3268e-01, -1.1723e+00,  1.7678e+00,  3.3797e-01,  1.5644e+00],\n",
      "        [-6.6335e-01, -1.6040e+00,  2.2721e-01,  3.2120e-01,  5.1342e-01,\n",
      "          6.7200e-01,  2.2934e+00, -1.4783e+00,  2.2563e-01, -5.1935e-02],\n",
      "        [-2.2104e-01,  2.3920e-01,  6.2831e-01, -5.7361e-01,  1.0152e+00,\n",
      "         -9.3042e-01,  1.0814e+00, -2.1434e-02, -2.8196e-01, -1.4974e-01],\n",
      "        [ 5.2091e-02, -7.5963e-01, -5.3916e-01,  3.7612e-01, -2.4858e-01,\n",
      "          1.1530e+00,  2.5609e-01, -7.9049e-01,  7.8174e-01,  1.3390e-01],\n",
      "        [-7.3968e-01, -1.1293e+00,  5.7763e-02, -1.8690e-01,  1.3372e+00,\n",
      "         -3.1935e-01, -6.4691e-02,  1.4404e-01, -2.6708e-01,  9.0866e-01],\n",
      "        [ 4.3219e+00, -2.5376e+00,  6.7685e-01, -1.3233e+00, -2.7269e-01,\n",
      "          9.9980e-01,  9.6673e-01, -7.4665e-01, -2.1040e-01, -1.1992e+00],\n",
      "        [-6.0307e-02, -1.5309e+00, -5.1305e-01,  5.2969e-02,  1.9223e-01,\n",
      "         -2.5180e-01, -6.0375e-01,  1.6322e+00, -5.5672e-01,  1.1879e+00],\n",
      "        [-3.9547e-01, -2.3499e+00, -2.5901e-01, -8.6672e-01,  2.2883e+00,\n",
      "          2.0862e-01,  5.5384e-02, -5.5293e-02,  5.3746e-04,  1.5211e+00],\n",
      "        [ 2.6986e+00, -2.3655e+00,  5.1899e-02,  1.0024e+00, -1.1512e+00,\n",
      "          9.3944e-01, -1.4993e-01, -4.5057e-01,  5.8077e-01, -3.9964e-01],\n",
      "        [-1.0084e+00,  1.5819e+00, -1.8044e-01,  1.7010e-01, -3.5233e-01,\n",
      "          9.8314e-02,  2.0088e-01, -2.4437e-02,  4.3335e-01, -1.6831e-01],\n",
      "        [-8.9146e-01, -5.4781e-02, -9.7533e-01,  2.2229e+00, -1.0887e+00,\n",
      "          7.9695e-01, -3.9295e-01,  4.7294e-01,  1.0093e-01,  2.6922e-02],\n",
      "        [-9.8090e-01,  1.2060e+00, -1.8371e-01,  2.8185e-01, -2.5626e-01,\n",
      "         -2.4386e-02, -1.4878e-02,  1.3198e-01,  1.8383e-01,  2.6831e-01],\n",
      "        [-9.8272e-01, -6.9062e-01, -8.3554e-01,  2.3463e+00, -8.6406e-02,\n",
      "          1.3979e+00, -5.6487e-01, -9.4429e-01,  6.3782e-01,  1.0946e-03],\n",
      "        [ 1.7915e+00, -1.5858e+00,  7.6246e-01, -1.8771e+00,  8.7012e-01,\n",
      "          1.7027e-01,  1.3727e+00, -9.2424e-01, -4.4910e-01, -3.1916e-01],\n",
      "        [-9.1588e-01, -1.8338e-01,  9.0196e-01, -2.7996e-01, -1.3034e-01,\n",
      "         -3.7488e-01, -1.2862e+00,  2.0025e+00,  7.9339e-01,  7.7610e-01],\n",
      "        [ 2.4525e-01, -1.1392e+00,  2.6747e+00,  4.8158e-01, -5.0639e-01,\n",
      "          2.0759e-01,  2.9185e-01, -1.2013e-01,  3.8859e-01, -1.8244e+00],\n",
      "        [-4.8230e-01, -1.3395e+00,  1.1617e-01,  3.1939e-02, -9.1397e-02,\n",
      "         -4.2174e-01, -3.5947e-01,  2.4376e+00, -2.4447e-01,  1.2613e+00],\n",
      "        [-1.2114e+00,  2.2322e+00, -3.5015e-01,  1.7069e-02, -6.2998e-01,\n",
      "          1.8578e-02,  4.2972e-02,  2.1480e-01,  4.3116e-01,  5.0390e-02],\n",
      "        [ 2.4267e-01,  3.7596e-01,  9.0782e-01,  1.2470e+00, -1.8000e+00,\n",
      "          4.5524e-01,  4.8602e-01, -1.2067e+00,  6.1833e-01, -1.1321e+00],\n",
      "        [-1.2875e+00,  2.9510e+00, -2.4102e-01,  4.1072e-01, -1.3227e+00,\n",
      "          1.1699e-01, -8.0422e-02, -5.3176e-01,  6.5072e-01, -1.8970e-01],\n",
      "        [-7.4763e-01,  1.6203e+00,  6.0640e-02, -1.1195e-02, -4.7857e-01,\n",
      "         -8.1597e-02, -1.0093e-02, -1.8524e-02,  1.2297e-01, -2.0605e-01],\n",
      "        [-6.9747e-01, -8.2769e-01, -1.5382e-01, -2.8580e-01,  1.4879e-02,\n",
      "         -5.7939e-01, -4.8369e-01,  1.9251e+00, -3.3055e-01,  1.2110e+00],\n",
      "        [-1.9209e+00, -2.9232e-01, -1.2584e-01, -2.2196e-01,  2.1993e+00,\n",
      "         -4.3525e-01, -8.8802e-01,  6.4973e-01,  4.9366e-01,  1.5263e+00],\n",
      "        [-4.9081e-01,  9.2743e-01,  1.2304e+00,  1.4875e-01, -2.6161e-01,\n",
      "         -3.2705e-01,  4.6569e-01, -1.2859e+00,  2.4988e-01, -6.9073e-01],\n",
      "        [-1.0601e+00,  2.0437e-01, -1.1253e-01,  1.1902e+00, -5.3233e-01,\n",
      "          3.5600e-01,  4.1392e-01, -1.3764e-01,  5.6882e-02, -2.5022e-01],\n",
      "        [ 2.4113e-01, -1.3126e+00, -3.3053e-01,  1.5254e+00, -4.2544e-01,\n",
      "          1.3285e+00, -1.4227e-01, -1.1695e+00,  9.9696e-01, -2.5398e-01],\n",
      "        [-1.5181e+00,  3.6863e-01,  4.6798e-02,  7.1563e-01, -5.5568e-02,\n",
      "          8.0826e-02,  1.8784e-01,  1.0407e-01,  3.3774e-01,  3.9539e-01],\n",
      "        [-7.5323e-01, -2.0043e-01,  1.5012e+00, -4.1845e-01,  3.4722e-01,\n",
      "         -7.1021e-01,  7.3217e-01, -2.7330e-01,  1.2618e-01, -3.8002e-02],\n",
      "        [-8.6264e-01, -2.6739e+00, -1.2330e+00, -2.4738e-02,  2.7321e+00,\n",
      "          5.5214e-01, -7.5678e-01,  4.1861e-01,  8.2661e-01,  2.1189e+00],\n",
      "        [-3.4144e-01, -2.0944e+00,  4.9511e-01, -6.1996e-01,  2.1808e+00,\n",
      "         -6.7999e-01,  2.4438e-01,  3.8084e-01, -3.6398e-01,  7.5630e-01],\n",
      "        [-3.7148e-02, -1.1195e+00,  1.5100e-01,  2.5940e-01, -3.4649e-01,\n",
      "          4.5171e-01,  2.0971e+00, -1.1384e+00, -5.1785e-02, -3.5804e-01],\n",
      "        [-9.1217e-02, -1.0105e+00, -2.8472e-01,  1.7370e+00, -5.6940e-01,\n",
      "          6.8349e-01,  5.6053e-02, -6.0826e-01, -1.7718e-01, -1.1747e-01],\n",
      "        [ 4.9249e-01, -1.1095e+00, -1.3215e+00, -4.6572e-02,  6.5386e-01,\n",
      "          1.3316e+00, -1.2693e-01, -3.9749e-01, -5.4436e-02,  5.3845e-01],\n",
      "        [ 4.6388e-01, -8.3757e-01, -4.4371e-01,  1.1654e+00,  5.6434e-02,\n",
      "          8.1143e-01, -3.1948e-01, -5.5490e-01,  2.9612e-01, -1.8674e-01],\n",
      "        [-3.6101e-02, -5.7073e-02,  1.4098e+00, -1.2291e-01,  7.9807e-01,\n",
      "         -7.8225e-01,  8.5840e-01, -3.9969e-01,  6.7202e-02, -4.3294e-01],\n",
      "        [ 1.5266e+00, -2.2744e+00, -5.7498e-01,  4.7260e-01, -7.1800e-01,\n",
      "          1.0898e+00,  2.5978e-01, -7.3869e-01,  1.3683e+00, -1.3687e-01],\n",
      "        [-3.3481e-02, -2.6354e+00,  6.4623e-02, -2.9222e-01,  2.7243e+00,\n",
      "          2.9150e-01,  3.1560e-02, -2.5786e-01, -3.9654e-02,  8.6603e-01],\n",
      "        [-9.9175e-01,  2.3314e+00,  1.0370e-01,  2.5237e-01, -9.0882e-01,\n",
      "         -2.2393e-01, -4.2816e-01, -1.1633e-01,  2.5792e-01, -2.1764e-01],\n",
      "        [-1.6583e-01, -2.0373e+00, -1.0742e+00, -8.4945e-01,  1.6427e+00,\n",
      "         -1.3603e-01, -7.5668e-02,  9.3881e-01, -2.8336e-01,  2.1476e+00],\n",
      "        [ 9.4036e-02,  1.4378e-01, -5.5804e-01, -3.7923e-01,  3.5583e-01,\n",
      "          5.0920e-01, -3.3262e-01,  3.7169e-01,  1.4085e-01, -9.0483e-02],\n",
      "        [-2.3068e-01, -1.7885e+00, -5.9969e-01,  6.7990e-01,  1.0003e-01,\n",
      "         -1.5149e-01, -1.5403e-01,  1.9072e+00, -5.8850e-01,  4.6759e-01],\n",
      "        [ 1.2941e-01, -7.2276e-01,  1.4664e+00, -1.3818e+00, -2.8763e-01,\n",
      "          1.5918e-02,  8.0020e-01, -7.4414e-01,  1.4009e+00,  3.0600e-01],\n",
      "        [-7.9722e-01, -9.8558e-01,  4.1314e-02, -3.8985e-01,  8.2681e-01,\n",
      "          2.4743e-01,  1.2113e-01, -2.2051e-01,  4.0881e-01,  1.0755e+00],\n",
      "        [-1.0544e+00, -6.9739e-02,  1.2493e+00,  6.2640e-01, -2.4910e-01,\n",
      "          2.3155e-02, -1.1589e-01, -5.1829e-01,  6.2480e-01,  2.3107e-01],\n",
      "        [-9.3651e-01, -6.8687e-01,  4.6540e-01, -4.6066e-01,  7.4963e-01,\n",
      "         -5.2496e-01, -3.6419e-01,  1.6983e+00,  2.9436e-02,  6.9874e-01],\n",
      "        [-1.2159e+00, -5.9930e-01, -5.9661e-01,  3.5608e-01,  4.5774e-01,\n",
      "          2.4533e-01, -6.4665e-02, -5.2151e-01,  5.1448e-01,  8.0569e-01],\n",
      "        [ 4.7438e-01, -7.5905e-02,  7.5997e-01, -1.6466e-01,  4.4799e-01,\n",
      "         -7.3477e-01,  5.9895e-01,  1.7119e-01, -3.1123e-01, -5.1275e-01],\n",
      "        [-4.5979e-01, -1.1846e+00,  5.8537e-01, -9.0444e-01,  2.1646e+00,\n",
      "         -6.9730e-01, -1.1753e-01,  4.6441e-01,  1.0319e-01,  9.8745e-01],\n",
      "        [-1.2665e+00, -2.1686e-01, -4.1468e-01,  2.6695e+00, -4.7534e-01,\n",
      "          9.1868e-01, -9.8341e-01, -6.7774e-01,  1.1259e+00,  1.5630e-01],\n",
      "        [ 2.7469e+00, -1.1485e+00,  6.3078e-01, -8.0528e-01, -1.4941e+00,\n",
      "          4.0910e-01,  6.9541e-01,  8.1883e-02, -2.4532e-01, -2.3704e-01],\n",
      "        [ 5.0238e-01, -1.4501e+00, -7.0153e-01,  1.1998e-01, -9.5550e-02,\n",
      "         -4.4882e-01, -5.7643e-01,  2.7041e+00, -4.1843e-01,  4.0951e-01],\n",
      "        [ 4.4429e+00, -2.6601e+00,  9.6773e-01,  3.8933e-01, -9.7571e-01,\n",
      "          1.1529e+00, -1.1348e-01, -1.2989e+00,  4.4141e-01, -1.4481e+00],\n",
      "        [ 1.4702e+00, -1.0485e+00,  1.8196e+00,  1.3958e+00, -1.0089e+00,\n",
      "          8.3587e-02,  3.1937e-01, -7.8527e-01,  2.1645e-01, -1.9760e+00],\n",
      "        [-1.4201e+00,  8.7930e-01,  3.0192e-01, -1.4486e-01, -7.7479e-01,\n",
      "         -3.0795e-01, -8.9882e-01,  9.6128e-01,  1.3736e+00,  8.3505e-01],\n",
      "        [-1.2820e+00,  2.4487e+00, -3.3858e-01, -1.6736e-02, -7.5970e-01,\n",
      "          8.9416e-02,  1.2948e-02,  9.0844e-02,  6.6055e-01, -3.8198e-02],\n",
      "        [-1.7532e+00,  6.5016e-01, -4.7264e-01, -4.5858e-01,  9.4783e-01,\n",
      "         -4.0465e-01, -5.9399e-01,  1.7306e+00,  8.4529e-02,  6.9556e-01],\n",
      "        [-3.0737e-01,  1.5766e-01, -3.7132e-01,  2.3106e+00, -9.1649e-01,\n",
      "          1.0028e+00, -6.9080e-01, -9.2690e-01,  6.4617e-01, -7.4388e-01],\n",
      "        [-9.9551e-01, -3.6610e-01,  7.0319e-01, -5.7417e-01, -1.8665e-01,\n",
      "         -5.2420e-01,  2.2573e-01,  1.6803e+00, -2.1566e-01,  4.7811e-01],\n",
      "        [-1.5827e+00,  9.4225e-01, -8.1103e-01,  1.3628e-01, -1.7231e-01,\n",
      "          1.7891e-01, -3.7955e-01,  4.6952e-01,  1.0379e+00,  7.5957e-01],\n",
      "        [-6.3416e-01, -6.8246e-01, -5.0135e-01, -6.7516e-01,  1.7678e-01,\n",
      "         -3.8476e-01, -1.2199e+00,  3.2812e+00,  5.0050e-01,  1.0801e+00],\n",
      "        [-5.3091e-01, -2.0555e+00, -1.0200e+00, -3.3272e-01,  1.0359e+00,\n",
      "          3.5096e-01, -1.9635e-01,  1.2355e+00, -7.4678e-01,  1.5506e+00],\n",
      "        [-1.3726e-01, -1.8851e+00,  6.9669e-01, -5.9685e-01,  1.6753e-01,\n",
      "          2.3519e-01,  2.5292e+00, -4.1611e-01, -3.0423e-01,  4.9621e-02],\n",
      "        [-6.7157e-01, -1.0582e+00,  3.9913e+00,  1.2150e-02, -9.4998e-03,\n",
      "         -8.9381e-01,  8.1945e-01, -8.0854e-01,  6.2301e-01, -1.1684e+00],\n",
      "        [-3.8408e-01, -1.9038e+00, -5.5491e-01, -9.1770e-02,  6.8436e-01,\n",
      "         -1.8992e-01, -8.2991e-01,  2.0330e+00, -3.2923e-01,  1.5482e+00],\n",
      "        [-7.1280e-01,  1.4677e-02, -1.8995e-01, -2.6682e-01,  6.3804e-01,\n",
      "          8.8014e-01, -5.4096e-01, -6.0385e-01,  1.2148e+00,  6.6088e-01],\n",
      "        [-9.2165e-01, -2.3549e+00, -6.8282e-01,  2.4188e-01,  2.8558e+00,\n",
      "          3.8042e-01, -4.2700e-01, -4.5628e-01,  2.9440e-01,  1.4326e+00],\n",
      "        [-1.6031e+00,  5.8907e-01, -1.5720e-01, -4.9733e-01,  8.7368e-03,\n",
      "         -6.5719e-01, -1.0828e+00,  3.1398e+00,  2.9645e-01,  9.8345e-01],\n",
      "        [ 5.3630e-02, -1.5796e+00, -1.0556e+00,  1.6165e+00, -2.2471e-01,\n",
      "          9.9625e-01,  5.8653e-01, -4.4941e-01,  1.6417e-03,  1.7519e-02],\n",
      "        [-1.4603e-01, -2.0960e+00,  9.5343e-01, -1.2433e+00,  1.4609e+00,\n",
      "         -4.2471e-01,  2.5727e+00, -1.6583e-01, -5.4400e-01,  4.3834e-01],\n",
      "        [-1.5542e+00,  3.1480e+00,  5.1315e-01,  9.4340e-02, -7.5702e-01,\n",
      "         -3.2265e-01, -3.3838e-01, -3.3885e-01,  5.4434e-01, -6.8615e-01],\n",
      "        [ 3.7271e-01, -6.7560e-01, -5.7350e-02,  2.8081e+00, -1.1801e+00,\n",
      "          7.8392e-01, -1.3807e+00, -2.7354e-01,  9.9992e-01, -5.8812e-01],\n",
      "        [-1.0275e+00, -6.4362e-01,  3.9759e-01, -7.4854e-01,  3.9652e-01,\n",
      "         -3.8528e-02,  2.7724e+00, -1.2899e+00,  8.1253e-02,  1.2080e-01],\n",
      "        [-9.2577e-01,  1.2801e-01,  1.7383e-01, -4.5643e-01,  4.0294e-01,\n",
      "          1.6500e-01, -1.6664e-01,  1.7201e-01,  7.9283e-01,  5.2272e-01],\n",
      "        [-8.5441e-01, -5.6972e-01, -7.8600e-01,  2.5733e+00, -1.3971e+00,\n",
      "          9.8972e-01, -1.0647e+00,  6.1613e-01,  7.3624e-01,  2.3167e-01],\n",
      "        [-2.0049e+00,  1.9337e+00,  4.8745e-02,  9.2994e-02, -4.5579e-01,\n",
      "          7.2328e-02,  4.4192e-01, -2.5092e-01,  9.2910e-01,  8.5822e-02],\n",
      "        [-8.4551e-01, -2.8464e-01, -2.4375e-01, -1.4306e+00,  2.1187e+00,\n",
      "         -4.0991e-01,  5.1725e-01, -3.2445e-01, -1.7999e-01,  1.1224e+00],\n",
      "        [-1.0612e+00,  6.0389e-01, -3.3751e-01,  2.7943e-01, -6.2859e-02,\n",
      "          1.3070e-01, -1.1755e-01,  1.9615e-01,  3.9232e-01,  3.7469e-01],\n",
      "        [-1.9515e+00,  1.5180e+00, -4.5383e-01,  3.8171e-02, -5.0365e-03,\n",
      "          7.1707e-03,  4.1879e-03,  8.2310e-01,  6.0694e-02,  3.2349e-01],\n",
      "        [ 9.6097e-01, -1.1813e+00,  6.6920e-01, -6.9799e-01, -1.7372e-01,\n",
      "          4.9985e-01,  1.9614e+00, -1.1300e+00, -1.3473e-01, -6.8543e-01],\n",
      "        [-1.1090e+00, -1.8663e+00,  2.9735e-02, -5.6202e-01,  1.5077e+00,\n",
      "         -6.6698e-01, -1.0857e-01,  7.5252e-01, -1.6521e-01,  2.1210e+00]],\n",
      "       grad_fn=<AddmmBackward>)\n"
     ]
    }
   ],
   "source": [
    "iter_test = 0 \n",
    "for images, labels in test_loader:\n",
    "    iter_test += 1\n",
    "    \n",
    "    images = Variable(images.view(-1, 28*28))\n",
    "    \n",
    "    # Forward pass only to get Logits/outputs\n",
    "    outputs = model(images)\n",
    "    \n",
    "    if iter_test == 1:\n",
    "        print('OUTPUTS:')\n",
    "        print(outputs)\n",
    "                \n",
    "    # Get predictions from the maximum value\n",
    "    _, predicted = torch.max(outputs.data, 1)"
   ]
  },
  {
   "cell_type": "code",
   "execution_count": 46,
   "metadata": {},
   "outputs": [
    {
     "name": "stdout",
     "output_type": "stream",
     "text": [
      "OUTPUTS:\n",
      "torch.Size([100, 10])\n"
     ]
    }
   ],
   "source": [
    "iter_test = 0 \n",
    "for images, labels in test_loader:\n",
    "    iter_test += 1\n",
    "    \n",
    "    images = Variable(images.view(-1, 28*28))\n",
    "    \n",
    "    # Forward pass only to get Logits/outputs\n",
    "    outputs = model(images)\n",
    "    \n",
    "    if iter_test == 1:\n",
    "        print('OUTPUTS:')\n",
    "        print(outputs.size())\n",
    "                \n",
    "    # Get predictions from the maximum value\n",
    "    _, predicted = torch.max(outputs.data, 1)"
   ]
  },
  {
   "cell_type": "code",
   "execution_count": 47,
   "metadata": {},
   "outputs": [
    {
     "name": "stdout",
     "output_type": "stream",
     "text": [
      "OUTPUTS:\n",
      "tensor([-0.2977, -1.1801, -0.2822, -0.0940,  0.2726, -0.4398, -1.0860,  2.9115,\n",
      "        -0.2268,  0.8022], grad_fn=<SliceBackward>)\n"
     ]
    }
   ],
   "source": [
    "iter_test = 0 \n",
    "for images, labels in test_loader:\n",
    "    iter_test += 1\n",
    "    \n",
    "    images = Variable(images.view(-1, 28*28))\n",
    "    \n",
    "    # Forward pass only to get Logits/outputs\n",
    "    outputs = model(images)\n",
    "    \n",
    "    if iter_test == 1:\n",
    "        print('OUTPUTS:')\n",
    "        print(outputs[0, :])\n",
    "                \n",
    "    # Get predictions from the maximum value\n",
    "    _, predicted = torch.max(outputs.data, 1)"
   ]
  },
  {
   "cell_type": "code",
   "execution_count": 53,
   "metadata": {},
   "outputs": [
    {
     "name": "stdout",
     "output_type": "stream",
     "text": [
      "PREDICTION:\n",
      "tensor(7)\n"
     ]
    }
   ],
   "source": [
    "iter_test = 0 \n",
    "for images, labels in test_loader:\n",
    "    iter_test += 1\n",
    "    \n",
    "    images = Variable(images.view(-1, 28*28))\n",
    "    \n",
    "    # Forward pass only to get Logits/outputs\n",
    "    outputs = model(images)\n",
    "\n",
    "    # Get predictions from the maximum value\n",
    "    _, predicted = torch.max(outputs.data, 1)\n",
    "    \n",
    "    if iter_test == 1:\n",
    "        print('PREDICTION:')\n",
    "        print(predicted[0])\n",
    "                "
   ]
  },
  {
   "cell_type": "code",
   "execution_count": 54,
   "metadata": {},
   "outputs": [
    {
     "name": "stdout",
     "output_type": "stream",
     "text": [
      "PREDICTION:\n",
      "torch.Size([100])\n"
     ]
    }
   ],
   "source": [
    "iter_test = 0 \n",
    "for images, labels in test_loader:\n",
    "    iter_test += 1\n",
    "    \n",
    "    images = Variable(images.view(-1, 28*28))\n",
    "    \n",
    "    # Forward pass only to get Logits/outputs\n",
    "    outputs = model(images)\n",
    "\n",
    "    # Get predictions from the maximum value\n",
    "    _, predicted = torch.max(outputs.data, 1)\n",
    "    \n",
    "    if iter_test == 1:\n",
    "        print('PREDICTION:')\n",
    "        print(predicted.size())\n",
    "                "
   ]
  },
  {
   "cell_type": "code",
   "execution_count": 56,
   "metadata": {},
   "outputs": [
    {
     "name": "stdout",
     "output_type": "stream",
     "text": [
      "PREDICTION:\n",
      "tensor(7)\n",
      "LABEL SIZE\n",
      "torch.Size([100])\n",
      "LABEL FOR IMAGE 0\n",
      "tensor(7)\n"
     ]
    }
   ],
   "source": [
    "iter_test = 0 \n",
    "for images, labels in test_loader:\n",
    "    iter_test += 1\n",
    "    \n",
    "    images = Variable(images.view(-1, 28*28))\n",
    "    \n",
    "    # Forward pass only to get Logits/outputs\n",
    "    outputs = model(images)\n",
    "\n",
    "    # Get predictions from the maximum value\n",
    "    _, predicted = torch.max(outputs.data, 1)\n",
    "    \n",
    "    if iter_test == 1:\n",
    "        print('PREDICTION:')\n",
    "        print(predicted[0])\n",
    "        \n",
    "        print('LABEL SIZE')\n",
    "        print(labels.size())\n",
    "        \n",
    "        print('LABEL FOR IMAGE 0')\n",
    "        print(labels[0])"
   ]
  },
  {
   "cell_type": "code",
   "execution_count": 58,
   "metadata": {},
   "outputs": [
    {
     "name": "stdout",
     "output_type": "stream",
     "text": [
      "PREDICTION:\n",
      "tensor(2)\n",
      "LABEL SIZE\n",
      "torch.Size([100])\n",
      "LABEL FOR IMAGE 1\n",
      "tensor(2)\n"
     ]
    }
   ],
   "source": [
    "iter_test = 0 \n",
    "for images, labels in test_loader:\n",
    "    iter_test += 1\n",
    "    \n",
    "    images = Variable(images.view(-1, 28*28))\n",
    "    \n",
    "    # Forward pass only to get Logits/outputs\n",
    "    outputs = model(images)\n",
    "\n",
    "    # Get predictions from the maximum value\n",
    "    _, predicted = torch.max(outputs.data, 1)\n",
    "    \n",
    "    if iter_test == 1:\n",
    "        print('PREDICTION:')\n",
    "        print(predicted[1])\n",
    "        \n",
    "        print('LABEL SIZE')\n",
    "        print(labels.size())\n",
    "        \n",
    "        print('LABEL FOR IMAGE 1')\n",
    "        print(labels[1])"
   ]
  },
  {
   "cell_type": "code",
   "execution_count": 69,
   "metadata": {},
   "outputs": [
    {
     "name": "stdout",
     "output_type": "stream",
     "text": [
      "tensor(82)\n"
     ]
    }
   ],
   "source": [
    "correct = 0\n",
    "total = 0\n",
    "iter_test = 0\n",
    "\n",
    "for images, labels in test_loader:\n",
    "    iter_test += 1\n",
    "    \n",
    "    images = Variable(images.view(-1, 28*28))\n",
    "    \n",
    "    # Forward pass only to get Logits/outputs\n",
    "    outputs = model(images)\n",
    "\n",
    "    # Get predictions from the maximum value\n",
    "    _, predicted = torch.max(outputs.data, 1)\n",
    "    \n",
    "    total += labels.size(0)\n",
    "                \n",
    "    # Total correct predictions\n",
    "    correct += (predicted == labels).sum()\n",
    "\n",
    "accuracy = 100 * correct / total\n",
    "\n",
    "# accuracy = accuracy.round()\n",
    "\n",
    "print(accuracy)"
   ]
  },
  {
   "cell_type": "code",
   "execution_count": 70,
   "metadata": {},
   "outputs": [
    {
     "name": "stdout",
     "output_type": "stream",
     "text": [
      "[1. 1. 1. 1. 1. 1. 1. 1. 1. 1.]\n",
      "[1. 1. 1. 1. 1. 1. 1. 1. 1. 1.]\n",
      "[ True  True  True  True  True  True  True  True  True  True]\n",
      "10\n"
     ]
    }
   ],
   "source": [
    "import numpy as np\n",
    "a = np.ones((10))\n",
    "print(a)\n",
    "\n",
    "b = np.ones((10))\n",
    "print(b)\n",
    "\n",
    "print(a == b)\n",
    "print((a == b).sum())"
   ]
  },
  {
   "cell_type": "markdown",
   "metadata": {},
   "source": [
    "#### Saving Model\n"
   ]
  },
  {
   "cell_type": "code",
   "execution_count": 71,
   "metadata": {},
   "outputs": [],
   "source": [
    "save_model = True\n",
    "if save_model is True:\n",
    "    \n",
    "    # saving only params\n",
    "    torch.save(model.state_dict(), 'Models/LogRegPytorch.pkl')"
   ]
  },
  {
   "cell_type": "markdown",
   "metadata": {},
   "source": [
    "## Build logistic Regression Model (using GPU)"
   ]
  },
  {
   "cell_type": "markdown",
   "metadata": {},
   "source": [
    "##### CPU Version"
   ]
  },
  {
   "cell_type": "code",
   "execution_count": 74,
   "metadata": {},
   "outputs": [
    {
     "name": "stdout",
     "output_type": "stream",
     "text": [
      "Iteration: 500, Loss: 1.8468763828277588, Accuracy: 66\n",
      "Iteration: 1000, Loss: 1.555506706237793, Accuracy: 75\n",
      "Iteration: 1500, Loss: 1.3941494226455688, Accuracy: 78\n",
      "Iteration: 2000, Loss: 1.1551847457885742, Accuracy: 80\n",
      "Iteration: 2500, Loss: 1.0688273906707764, Accuracy: 81\n",
      "Iteration: 3000, Loss: 0.9663345813751221, Accuracy: 82\n"
     ]
    }
   ],
   "source": [
    "import torch\n",
    "import torch.nn\n",
    "import torchvision.transforms as transforms\n",
    "import torchvision.datasets as dsets\n",
    "from torch.autograd import Variable\n",
    "\n",
    "'''\n",
    "STEP 1: LOADING DATASET\n",
    "'''\n",
    "\n",
    "train_dataset = dsets.MNIST(root = './data',\n",
    "                            train = True,\n",
    "                            transform = transforms.ToTensor(),\n",
    "                            download = True)\n",
    "\n",
    "test_dataset = dsets.MNIST(root = './data',\n",
    "                           train = False,\n",
    "                           transform = transforms.ToTensor())\n",
    "\n",
    "'''\n",
    "STEP 2: MAKING DATASET ITERABLE\n",
    "'''\n",
    "batch_size = 100 \n",
    "n_iters = 3000\n",
    "num_epochs = n_iters / (len(train_dataset) / batch_size)\n",
    "num_epochs = int(num_epochs)\n",
    "\n",
    "train_loader = torch.utils.data.DataLoader(dataset=train_dataset,\n",
    "                                           batch_size = batch_size,\n",
    "                                           shuffle=True)\n",
    "\n",
    "\n",
    "test_loader = torch.utils.data.DataLoader(dataset=test_dataset,\n",
    "                                          batch_size = batch_size,\n",
    "                                          shuffle=False)\n",
    "\n",
    "'''\n",
    "STEP 3: CREATE MODEL CLASS\n",
    "'''\n",
    "class LogisticRegressionModel(nn.Module):\n",
    "    def __init__(self, input_size, output_size):\n",
    "        super(LogisticRegressionModel, self).__init__()\n",
    "        self.linear = nn.Linear(input_dim, output_dim)\n",
    "\n",
    "    def forward(self, x):\n",
    "        out = self.linear(x)\n",
    "        return out\n",
    "    \n",
    "'''\n",
    "STEP 4: INSTANTIATE MODEL CLASS\n",
    "'''\n",
    "input_dim = 28*28\n",
    "output_dim = 10\n",
    "model = LogisticRegressionModel(input_dim, output_dim)\n",
    "\n",
    "'''\n",
    "STEP 5: INSTANTIATE LOSS CLASS\n",
    "'''\n",
    "criterion = nn.CrossEntropyLoss()\n",
    "\n",
    "\n",
    "'''\n",
    "STEP 6: INSTANTIATE OPTIMIZER CLASS\n",
    "'''\n",
    "learning_rate = 0.001\n",
    "optimizer = torch.optim.SGD(model.parameters(), lr = learning_rate)\n",
    "\n",
    "'''\n",
    "STEP 7: TRAIN THE MODEL\n",
    "'''\n",
    "iter = 0\n",
    "for epoch in range(num_epochs):\n",
    "    for i, (images, labels) in enumerate(train_loader):\n",
    "        # load images as Variable\n",
    "        images = Variable(images.view(-1, 28*28))\n",
    "        labels = Variable(labels)\n",
    "        \n",
    "        # Clear grad w.r.t. parameters\n",
    "        optimizer.zero_grad()\n",
    "        \n",
    "        # Forward pass to get outputs/logits\n",
    "        outputs = model(images)\n",
    "        \n",
    "        # Calculate loss: softmax --> cross entropy loss\n",
    "        loss = criterion(outputs, labels)\n",
    "        \n",
    "        #Getting grads w.r.t. parameters\n",
    "        loss.backward()\n",
    "        \n",
    "        # Updating parameters\n",
    "        optimizer.step()\n",
    "        \n",
    "        iter += 1\n",
    "        \n",
    "        if iter % 500 == 0:\n",
    "            \n",
    "            # Calculate accuracy\n",
    "            correct = 0\n",
    "            total = 0\n",
    "            \n",
    "            # Iterate through test dataset\n",
    "            for images, labels in test_loader:\n",
    "                # load images as Variable\n",
    "                images = Variable(images.view(-1, 28*28))\n",
    "                \n",
    "                # Forward pass only to get Logits/outputs\n",
    "                outputs = model(images)\n",
    "                \n",
    "                # Get predictions from the maximum value\n",
    "                _, predicted = torch.max(outputs.data, 1)\n",
    "                \n",
    "                # Total no. of labels\n",
    "                total += labels.size(0)\n",
    "                \n",
    "                # Total correct predictions\n",
    "                correct += (predicted == labels).sum()\n",
    "                \n",
    "            accuracy = 100 * correct / total\n",
    "            \n",
    "            # Print loss\n",
    "            print('Iteration: {}, Loss: {}, Accuracy: {}'.format(iter, loss.data, accuracy))"
   ]
  },
  {
   "cell_type": "code",
   "execution_count": 76,
   "metadata": {},
   "outputs": [
    {
     "name": "stdout",
     "output_type": "stream",
     "text": [
      "Iteration: 500, Loss: 1.8931399583816528, Accuracy: 67\n",
      "Iteration: 1000, Loss: 1.6235284805297852, Accuracy: 76\n",
      "Iteration: 1500, Loss: 1.4396110773086548, Accuracy: 79\n",
      "Iteration: 2000, Loss: 1.2167572975158691, Accuracy: 80\n",
      "Iteration: 2500, Loss: 1.0842978954315186, Accuracy: 82\n",
      "Iteration: 3000, Loss: 0.9677110910415649, Accuracy: 83\n"
     ]
    }
   ],
   "source": [
    "import torch\n",
    "import torch.nn\n",
    "import torchvision.transforms as transforms\n",
    "import torchvision.datasets as dsets\n",
    "from torch.autograd import Variable\n",
    "\n",
    "'''\n",
    "STEP 1: LOADING DATASET\n",
    "'''\n",
    "\n",
    "train_dataset = dsets.MNIST(root = './data',\n",
    "                            train = True,\n",
    "                            transform = transforms.ToTensor(),\n",
    "                            download = True)\n",
    "\n",
    "test_dataset = dsets.MNIST(root = './data',\n",
    "                           train = False,\n",
    "                           transform = transforms.ToTensor())\n",
    "\n",
    "'''\n",
    "STEP 2: MAKING DATASET ITERABLE\n",
    "'''\n",
    "batch_size = 100 \n",
    "n_iters = 3000\n",
    "num_epochs = n_iters / (len(train_dataset) / batch_size)\n",
    "num_epochs = int(num_epochs)\n",
    "\n",
    "train_loader = torch.utils.data.DataLoader(dataset=train_dataset,\n",
    "                                           batch_size = batch_size,\n",
    "                                           shuffle=True)\n",
    "\n",
    "\n",
    "test_loader = torch.utils.data.DataLoader(dataset=test_dataset,\n",
    "                                          batch_size = batch_size,\n",
    "                                          shuffle=False)\n",
    "\n",
    "'''\n",
    "STEP 3: CREATE MODEL CLASS\n",
    "'''\n",
    "class LogisticRegressionModel(nn.Module):\n",
    "    def __init__(self, input_size, output_size):\n",
    "        super(LogisticRegressionModel, self).__init__()\n",
    "        self.linear = nn.Linear(input_dim, output_dim)\n",
    "\n",
    "    def forward(self, x):\n",
    "        out = self.linear(x)\n",
    "        return out\n",
    "    \n",
    "'''\n",
    "STEP 4: INSTANTIATE MODEL CLASS\n",
    "'''\n",
    "input_dim = 28*28\n",
    "output_dim = 10\n",
    "model = LogisticRegressionModel(input_dim, output_dim)\n",
    "\n",
    "######################################\n",
    "########### USAGE OF GPU #############\n",
    "######################################\n",
    "\n",
    "if torch.cuda.is_available():\n",
    "    model.cuda()\n",
    "\n",
    "\n",
    "'''\n",
    "STEP 5: INSTANTIATE LOSS CLASS\n",
    "'''\n",
    "criterion = nn.CrossEntropyLoss()\n",
    "\n",
    "\n",
    "'''\n",
    "STEP 6: INSTANTIATE OPTIMIZER CLASS\n",
    "'''\n",
    "learning_rate = 0.001\n",
    "optimizer = torch.optim.SGD(model.parameters(), lr = learning_rate)\n",
    "\n",
    "'''\n",
    "STEP 7: TRAIN THE MODEL\n",
    "'''\n",
    "iter = 0\n",
    "for epoch in range(num_epochs):\n",
    "    for i, (images, labels) in enumerate(train_loader):\n",
    "        # load images as Variable\n",
    "        \n",
    "        ######################################\n",
    "        ########### USAGE OF GPU #############\n",
    "        ######################################\n",
    "\n",
    "        if torch.cuda.is_available():\n",
    "            images = Variable(images.view(-1, 28*28).cuda())\n",
    "            labels = Variable(labels.cuda())\n",
    "        \n",
    "        else: \n",
    "            images = Variable(images.view(-1, 28*28))\n",
    "            labels = Variable(labels)\n",
    "        \n",
    "        \n",
    "        # Clear grad w.r.t. parameters\n",
    "        optimizer.zero_grad()\n",
    "        \n",
    "        # Forward pass to get outputs/logits\n",
    "        outputs = model(images)\n",
    "        \n",
    "        # Calculate loss: softmax --> cross entropy loss\n",
    "        loss = criterion(outputs, labels)\n",
    "        \n",
    "        #Getting grads w.r.t. parameters\n",
    "        loss.backward()\n",
    "        \n",
    "        # Updating parameters\n",
    "        optimizer.step()\n",
    "        \n",
    "        iter += 1\n",
    "        \n",
    "        if iter % 500 == 0:\n",
    "            \n",
    "            # Calculate accuracy\n",
    "            correct = 0\n",
    "            total = 0\n",
    "            \n",
    "            # Iterate through test dataset\n",
    "            for images, labels in test_loader:\n",
    "                # load images as Variable\n",
    "                \n",
    "                if torch.cuda.is_available():\n",
    "                    images = Variable(images.view(-1, 28*28).cuda())\n",
    "                else: \n",
    "                    images = Variable(images.view(-1, 28*28))\n",
    "                # Forward pass only to get Logits/outputs\n",
    "                outputs = model(images)\n",
    "                \n",
    "                # Get predictions from the maximum value\n",
    "                _, predicted = torch.max(outputs.data, 1)\n",
    "                \n",
    "                # Total no. of labels\n",
    "                total += labels.size(0)\n",
    "                \n",
    "                # Total correct predictions\n",
    "                if torch.cuda.is_available():\n",
    "                    correct += (predicted.cpu() == labels.cpu()).sum()\n",
    "                else: \n",
    "                    correct += (predicted == labels).sum()\n",
    "\n",
    "                \n",
    "            accuracy = 100 * correct / total\n",
    "            \n",
    "            # Print loss\n",
    "            print('Iteration: {}, Loss: {}, Accuracy: {}'.format(iter, loss.data, accuracy))"
   ]
  },
  {
   "cell_type": "markdown",
   "metadata": {},
   "source": [
    "----------"
   ]
  }
 ],
 "metadata": {
  "kernelspec": {
   "display_name": "pytorch",
   "language": "python",
   "name": "pytorch"
  },
  "language_info": {
   "codemirror_mode": {
    "name": "ipython",
    "version": 3
   },
   "file_extension": ".py",
   "mimetype": "text/x-python",
   "name": "python",
   "nbconvert_exporter": "python",
   "pygments_lexer": "ipython3",
   "version": "3.6.10"
  }
 },
 "nbformat": 4,
 "nbformat_minor": 2
}
